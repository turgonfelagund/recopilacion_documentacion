{
 "cells": [
  {
   "cell_type": "markdown",
   "id": "946a31bf-45be-4b53-9a4a-bc6e5f0c0b11",
   "metadata": {},
   "source": [
    "### Parte de condicionales. Vid 43"
   ]
  },
  {
   "cell_type": "markdown",
   "id": "0c41a2af-fca5-41b3-8b51-2e9f59c024ca",
   "metadata": {},
   "source": [
    "Python tabula automaticamente debido a que tiene en cuenta la jerarquia de codigo.\n",
    "Si no respetamos la tabulacion, el codigo falla\n",
    "\n",
    "Tambien es importante cerrar la clausula condicional con \":\""
   ]
  },
  {
   "cell_type": "code",
   "execution_count": 1,
   "id": "6c3d4327-63c4-4b51-9d3a-0aac79469926",
   "metadata": {},
   "outputs": [
    {
     "name": "stdout",
     "output_type": "stream",
     "text": [
      "Imprimir esto porque la evaluacion fue verdadera\n"
     ]
    }
   ],
   "source": [
    "#Caso correcto\n",
    "if True:\n",
    "    print(\"Imprimir esto porque la evaluacion fue verdadera\")"
   ]
  },
  {
   "cell_type": "code",
   "execution_count": 2,
   "id": "8b756e7f-b17c-49ff-a5f7-f6ac87e11a92",
   "metadata": {},
   "outputs": [
    {
     "ename": "IndentationError",
     "evalue": "expected an indented block after 'if' statement on line 2 (427171086.py, line 3)",
     "output_type": "error",
     "traceback": [
      "\u001b[1;36m  Cell \u001b[1;32mIn[2], line 3\u001b[1;36m\u001b[0m\n\u001b[1;33m    print(\"Imprimir esto porque la evaluacion fue verdadera\")\u001b[0m\n\u001b[1;37m    ^\u001b[0m\n\u001b[1;31mIndentationError\u001b[0m\u001b[1;31m:\u001b[0m expected an indented block after 'if' statement on line 2\n"
     ]
    }
   ],
   "source": [
    "#Caso erroneo\n",
    "if True:\n",
    "print(\"Imprimir esto porque la evaluacion fue verdadera\")"
   ]
  },
  {
   "cell_type": "markdown",
   "id": "882502d1-8b9c-4d7f-9743-2d6837434b2b",
   "metadata": {},
   "source": [
    "Los \"else\", al ser de la misma jeraquia que sus respectivos \"if\", se colocan\n",
    "al mismo nivel de tabulacion"
   ]
  },
  {
   "cell_type": "code",
   "execution_count": 3,
   "id": "c42fee99-f690-4454-ad56-877e380a6396",
   "metadata": {},
   "outputs": [
    {
     "name": "stdout",
     "output_type": "stream",
     "text": [
      "Juan saco 10 o mas\n"
     ]
    }
   ],
   "source": [
    "Juan = 10;\n",
    "\n",
    "if Juan == 67:\n",
    "    print(\"Juan saco 10\");\n",
    "elif Juan == 10 or Juan >=11:\n",
    "    print(\"Juan saco 10 o mas\");\n",
    "else:\n",
    "    print(\"No acertamos con el valor\");\n",
    "    "
   ]
  },
  {
   "cell_type": "markdown",
   "id": "fb8fb165-e657-44b8-9d2c-07458b7bd3aa",
   "metadata": {},
   "source": [
    "### Parte de if else y elif. Vid 44"
   ]
  },
  {
   "cell_type": "code",
   "execution_count": 3,
   "id": "e218a58c-a54b-4215-8550-72674f569594",
   "metadata": {},
   "outputs": [],
   "source": [
    "marta = 13"
   ]
  },
  {
   "cell_type": "code",
   "execution_count": 4,
   "id": "a3efb7bb-5f90-4baa-9a78-ff6cd856d1fe",
   "metadata": {},
   "outputs": [
    {
     "name": "stdout",
     "output_type": "stream",
     "text": [
      "el resto no es 0\n"
     ]
    }
   ],
   "source": [
    "if marta % 2 == 0:\n",
    "    print(\"el resto es 0\");\n",
    "else:\n",
    "    print(\"el resto no es 0\");"
   ]
  },
  {
   "cell_type": "code",
   "execution_count": 6,
   "id": "4871080c-764c-4fa7-9c00-e781e7d6c6f1",
   "metadata": {},
   "outputs": [
    {
     "name": "stdout",
     "output_type": "stream",
     "text": [
      "Esto aparece cuando no da ningun resultado\n"
     ]
    }
   ],
   "source": [
    "frase = \"marta\";\n",
    "if frase == \"Entrar\":\n",
    "    print(\"Bienvenidos\");\n",
    "elif frase == \"hola\":\n",
    "    print(\"nos estan saludando\");\n",
    "else:\n",
    "    print(\"Esto aparece si no hay resultado True\");"
   ]
  },
  {
   "cell_type": "code",
   "execution_count": 10,
   "id": "c2211e0a-bc4e-4957-b80f-2ae16e2fe530",
   "metadata": {},
   "outputs": [
    {
     "name": "stdin",
     "output_type": "stream",
     "text": [
      "coloca la nota 9\n"
     ]
    },
    {
     "name": "stdout",
     "output_type": "stream",
     "text": [
      "Eres un genio!\n"
     ]
    }
   ],
   "source": [
    "final = float(input(\"coloca la nota\"));\n",
    "if final >= 9 :\n",
    "    print(\"Eres un genio!\");\n",
    "elif final >= 7 :\n",
    "    print(\"Aprobaste!\");\n",
    "elif final == 6:\n",
    "    print(\"Te falto poco\");\n",
    "elif final <= 5:\n",
    "    print('Te falta estudiar un poquito mas');\n",
    "else:\n",
    "    print('No se te puee evaluar');"
   ]
  }
 ],
 "metadata": {
  "kernelspec": {
   "display_name": "Python 3 (ipykernel)",
   "language": "python",
   "name": "python3"
  },
  "language_info": {
   "codemirror_mode": {
    "name": "ipython",
    "version": 3
   },
   "file_extension": ".py",
   "mimetype": "text/x-python",
   "name": "python",
   "nbconvert_exporter": "python",
   "pygments_lexer": "ipython3",
   "version": "3.11.1"
  }
 },
 "nbformat": 4,
 "nbformat_minor": 5
}
