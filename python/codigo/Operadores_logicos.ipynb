{
 "cells": [
  {
   "cell_type": "markdown",
   "id": "51c7a0eb",
   "metadata": {},
   "source": [
    "### Este archivo pertenece al apartado de operadores lógicos"
   ]
  },
  {
   "cell_type": "code",
   "execution_count": 1,
   "id": "90839fb3",
   "metadata": {},
   "outputs": [
    {
     "data": {
      "text/plain": [
       "True"
      ]
     },
     "execution_count": 1,
     "metadata": {},
     "output_type": "execute_result"
    }
   ],
   "source": [
    "2+5 == 7"
   ]
  },
  {
   "cell_type": "code",
   "execution_count": 1,
   "id": "07c8856d",
   "metadata": {},
   "outputs": [
    {
     "data": {
      "text/plain": [
       "False"
      ]
     },
     "execution_count": 1,
     "metadata": {},
     "output_type": "execute_result"
    }
   ],
   "source": [
    "#Hay 3 tipos de operadores lógicos. AND, OR y NOT\n",
    "\n",
    "not True   #Cuidado, python es caseSensitive\n"
   ]
  },
  {
   "cell_type": "code",
   "execution_count": 3,
   "id": "ce4b0097",
   "metadata": {},
   "outputs": [
    {
     "data": {
      "text/plain": [
       "True"
      ]
     },
     "execution_count": 3,
     "metadata": {},
     "output_type": "execute_result"
    }
   ],
   "source": [
    "not False == True"
   ]
  },
  {
   "cell_type": "code",
   "execution_count": 4,
   "id": "5698bb02",
   "metadata": {},
   "outputs": [
    {
     "data": {
      "text/plain": [
       "False"
      ]
     },
     "execution_count": 4,
     "metadata": {},
     "output_type": "execute_result"
    }
   ],
   "source": [
    "# Devolvera false debido a que ambas partes deverian ser true para que un operador and devuelva True\n",
    "False and False"
   ]
  },
  {
   "cell_type": "code",
   "execution_count": 5,
   "id": "db5b0807",
   "metadata": {},
   "outputs": [
    {
     "data": {
      "text/plain": [
       "True"
      ]
     },
     "execution_count": 5,
     "metadata": {},
     "output_type": "execute_result"
    }
   ],
   "source": [
    "True and True"
   ]
  },
  {
   "cell_type": "code",
   "execution_count": 6,
   "id": "bb76a9aa",
   "metadata": {},
   "outputs": [
    {
     "data": {
      "text/plain": [
       "False"
      ]
     },
     "execution_count": 6,
     "metadata": {},
     "output_type": "execute_result"
    }
   ],
   "source": [
    "numero = 10\n",
    "numero > 5 and numero > 15"
   ]
  },
  {
   "cell_type": "code",
   "execution_count": 7,
   "id": "9f84b7c0",
   "metadata": {},
   "outputs": [
    {
     "data": {
      "text/plain": [
       "False"
      ]
     },
     "execution_count": 7,
     "metadata": {},
     "output_type": "execute_result"
    }
   ],
   "source": [
    "True and False"
   ]
  },
  {
   "cell_type": "code",
   "execution_count": 9,
   "id": "2c22ea60",
   "metadata": {},
   "outputs": [
    {
     "data": {
      "text/plain": [
       "True"
      ]
     },
     "execution_count": 9,
     "metadata": {},
     "output_type": "execute_result"
    }
   ],
   "source": [
    "numero > 5 or numero >15"
   ]
  },
  {
   "cell_type": "code",
   "execution_count": 10,
   "id": "230d2ae3",
   "metadata": {},
   "outputs": [
    {
     "data": {
      "text/plain": [
       "True"
      ]
     },
     "execution_count": 10,
     "metadata": {},
     "output_type": "execute_result"
    }
   ],
   "source": [
    "True or True"
   ]
  },
  {
   "cell_type": "code",
   "execution_count": 11,
   "id": "e405b835",
   "metadata": {},
   "outputs": [
    {
     "data": {
      "text/plain": [
       "False"
      ]
     },
     "execution_count": 11,
     "metadata": {},
     "output_type": "execute_result"
    }
   ],
   "source": [
    "# No se cumple ninguna de las partes\n",
    "False or False"
   ]
  },
  {
   "cell_type": "code",
   "execution_count": 12,
   "id": "ae8827bd",
   "metadata": {},
   "outputs": [],
   "source": [
    "palabra = \"Ana\""
   ]
  },
  {
   "cell_type": "code",
   "execution_count": 14,
   "id": "0f9612de",
   "metadata": {},
   "outputs": [
    {
     "data": {
      "text/plain": [
       "False"
      ]
     },
     "execution_count": 14,
     "metadata": {},
     "output_type": "execute_result"
    }
   ],
   "source": [
    "# Atencion a los acentos\n",
    "palabra =='salir' or palabra == 'Ána' or palabra == \"arbol\""
   ]
  },
  {
   "cell_type": "code",
   "execution_count": 16,
   "id": "635e8344",
   "metadata": {},
   "outputs": [
    {
     "data": {
      "text/plain": [
       "True"
      ]
     },
     "execution_count": 16,
     "metadata": {},
     "output_type": "execute_result"
    }
   ],
   "source": [
    "palabra =='salir' or palabra == 'Ana' or palabra == \"arbol\""
   ]
  },
  {
   "cell_type": "code",
   "execution_count": 17,
   "id": "d2d047fe",
   "metadata": {},
   "outputs": [
    {
     "data": {
      "text/plain": [
       "True"
      ]
     },
     "execution_count": 17,
     "metadata": {},
     "output_type": "execute_result"
    }
   ],
   "source": [
    "palabra[0] == \"A\""
   ]
  },
  {
   "cell_type": "markdown",
   "id": "5059c870",
   "metadata": {},
   "source": [
    "### Apartado de operadores relacionales"
   ]
  },
  {
   "cell_type": "code",
   "execution_count": 18,
   "id": "c2c5393d",
   "metadata": {},
   "outputs": [
    {
     "data": {
      "text/plain": [
       "False"
      ]
     },
     "execution_count": 18,
     "metadata": {},
     "output_type": "execute_result"
    }
   ],
   "source": [
    "3==2"
   ]
  },
  {
   "cell_type": "code",
   "execution_count": 19,
   "id": "a991f173",
   "metadata": {},
   "outputs": [
    {
     "data": {
      "text/plain": [
       "True"
      ]
     },
     "execution_count": 19,
     "metadata": {},
     "output_type": "execute_result"
    }
   ],
   "source": [
    "3!=1"
   ]
  },
  {
   "cell_type": "code",
   "execution_count": 20,
   "id": "4e6c5d1d",
   "metadata": {},
   "outputs": [
    {
     "data": {
      "text/plain": [
       "False"
      ]
     },
     "execution_count": 20,
     "metadata": {},
     "output_type": "execute_result"
    }
   ],
   "source": [
    "1!=1"
   ]
  },
  {
   "cell_type": "code",
   "execution_count": 21,
   "id": "fd7ce62d",
   "metadata": {},
   "outputs": [
    {
     "data": {
      "text/plain": [
       "False"
      ]
     },
     "execution_count": 21,
     "metadata": {},
     "output_type": "execute_result"
    }
   ],
   "source": [
    "3>4"
   ]
  },
  {
   "cell_type": "code",
   "execution_count": 22,
   "id": "c09029dc",
   "metadata": {},
   "outputs": [
    {
     "data": {
      "text/plain": [
       "True"
      ]
     },
     "execution_count": 22,
     "metadata": {},
     "output_type": "execute_result"
    }
   ],
   "source": [
    "4>=4"
   ]
  },
  {
   "cell_type": "code",
   "execution_count": 23,
   "id": "f96abee4",
   "metadata": {},
   "outputs": [
    {
     "data": {
      "text/plain": [
       "True"
      ]
     },
     "execution_count": 23,
     "metadata": {},
     "output_type": "execute_result"
    }
   ],
   "source": [
    "Marcos = 20\n",
    "Sanchez = 5\n",
    "\n",
    "Marcos > Sanchez"
   ]
  },
  {
   "cell_type": "code",
   "execution_count": 24,
   "id": "77cdcc85",
   "metadata": {},
   "outputs": [
    {
     "data": {
      "text/plain": [
       "False"
      ]
     },
     "execution_count": 24,
     "metadata": {},
     "output_type": "execute_result"
    }
   ],
   "source": [
    "lista1 = [1,2,3]\n",
    "lista2 = [4,5,6]\n",
    "\n",
    "lista1==lista2"
   ]
  },
  {
   "cell_type": "code",
   "execution_count": 25,
   "id": "1f824b91",
   "metadata": {},
   "outputs": [
    {
     "data": {
      "text/plain": [
       "True"
      ]
     },
     "execution_count": 25,
     "metadata": {},
     "output_type": "execute_result"
    }
   ],
   "source": [
    "len(lista1)==len(lista2)"
   ]
  },
  {
   "cell_type": "markdown",
   "id": "23024a52",
   "metadata": {},
   "source": [
    "### Expresiones anidadas y operadores de asignacion"
   ]
  },
  {
   "cell_type": "code",
   "execution_count": 26,
   "id": "e3a5e42c",
   "metadata": {},
   "outputs": [],
   "source": [
    "primero = 8\n",
    "\n",
    "segundo = 10"
   ]
  },
  {
   "cell_type": "code",
   "execution_count": 29,
   "id": "1dd381b5",
   "metadata": {},
   "outputs": [
    {
     "data": {
      "text/plain": [
       "-65456"
      ]
     },
     "execution_count": 29,
     "metadata": {},
     "output_type": "execute_result"
    }
   ],
   "source": [
    "# Predomina la aritmetica sobre la operacion logica. Si borramos a partir de \"or\" no habra cambios\n",
    "primero * segundo - 4**primero or not (primer % segundo) == 0"
   ]
  },
  {
   "cell_type": "code",
   "execution_count": 30,
   "id": "59525078",
   "metadata": {},
   "outputs": [],
   "source": [
    "#Operadores de asignacion\n",
    "\n",
    "numero = 10"
   ]
  },
  {
   "cell_type": "code",
   "execution_count": 33,
   "id": "fe1bfd26",
   "metadata": {},
   "outputs": [
    {
     "data": {
      "text/plain": [
       "16"
      ]
     },
     "execution_count": 33,
     "metadata": {},
     "output_type": "execute_result"
    }
   ],
   "source": [
    "numero += 2\n",
    "numero"
   ]
  },
  {
   "cell_type": "code",
   "execution_count": 34,
   "id": "0d82287f",
   "metadata": {},
   "outputs": [
    {
     "data": {
      "text/plain": [
       "32"
      ]
     },
     "execution_count": 34,
     "metadata": {},
     "output_type": "execute_result"
    }
   ],
   "source": [
    "numero *= 2\n",
    "numero"
   ]
  },
  {
   "cell_type": "code",
   "execution_count": 35,
   "id": "d780495c",
   "metadata": {},
   "outputs": [
    {
     "data": {
      "text/plain": [
       "16.0"
      ]
     },
     "execution_count": 35,
     "metadata": {},
     "output_type": "execute_result"
    }
   ],
   "source": [
    "numero /= 2\n",
    "numero"
   ]
  },
  {
   "cell_type": "code",
   "execution_count": 37,
   "id": "1003126c",
   "metadata": {},
   "outputs": [
    {
     "data": {
      "text/plain": [
       "12.0"
      ]
     },
     "execution_count": 37,
     "metadata": {},
     "output_type": "execute_result"
    }
   ],
   "source": [
    "numero -= 2\n",
    "numero"
   ]
  },
  {
   "cell_type": "code",
   "execution_count": 38,
   "id": "11a61da1",
   "metadata": {},
   "outputs": [
    {
     "data": {
      "text/plain": [
       "2.0"
      ]
     },
     "execution_count": 38,
     "metadata": {},
     "output_type": "execute_result"
    }
   ],
   "source": [
    "numero %= 5\n",
    "numero"
   ]
  },
  {
   "cell_type": "code",
   "execution_count": 39,
   "id": "61e73103",
   "metadata": {},
   "outputs": [
    {
     "data": {
      "text/plain": [
       "4.0"
      ]
     },
     "execution_count": 39,
     "metadata": {},
     "output_type": "execute_result"
    }
   ],
   "source": [
    "numero **= 2\n",
    "numero"
   ]
  },
  {
   "cell_type": "code",
   "execution_count": null,
   "id": "975de52e",
   "metadata": {},
   "outputs": [],
   "source": []
  }
 ],
 "metadata": {
  "kernelspec": {
   "display_name": "Python 3 (ipykernel)",
   "language": "python",
   "name": "python3"
  },
  "language_info": {
   "codemirror_mode": {
    "name": "ipython",
    "version": 3
   },
   "file_extension": ".py",
   "mimetype": "text/x-python",
   "name": "python",
   "nbconvert_exporter": "python",
   "pygments_lexer": "ipython3",
   "version": "3.11.1"
  }
 },
 "nbformat": 4,
 "nbformat_minor": 5
}
