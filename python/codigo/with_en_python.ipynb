{
 "cells": [
  {
   "cell_type": "markdown",
   "id": "7601c010-9d2f-4a1c-af0c-526a66ebe170",
   "metadata": {},
   "source": [
    "## with en Python. No está en vídeos del curso"
   ]
  },
  {
   "cell_type": "markdown",
   "id": "2671cfb3-29d9-48ef-844a-076b3467d237",
   "metadata": {},
   "source": [
    "La claúsula \"__with__\" genera un contexto local (el que se manipula dentro del bloque with) en el que se realiza la ejecución de un fragmento de código. Además maneja errores\n",
    "\n",
    "Terminada la ejecución, todo vuelve al estado anterior\n",
    "\n",
    "Esto permite crear un código más compacto y elegante"
   ]
  },
  {
   "cell_type": "markdown",
   "id": "19581a44-5f94-43c1-897e-fc5c9e0f8738",
   "metadata": {},
   "source": [
    "### Aqui podemos ver la lectura de un archivo por la vía clásica"
   ]
  },
  {
   "cell_type": "code",
   "execution_count": 2,
   "id": "c1358c15-455f-472c-9292-97ae85a1a1e9",
   "metadata": {},
   "outputs": [
    {
     "name": "stdout",
     "output_type": "stream",
     "text": [
      "Esto es un teto de prueba\n"
     ]
    }
   ],
   "source": [
    "try:\n",
    "    archivo = open(\"test.txt\")\n",
    "    texto = archivo.read()\n",
    "    print(texto)\n",
    "finally:\n",
    "    archivo.close()\n",
    "    "
   ]
  },
  {
   "cell_type": "markdown",
   "id": "10115480-30cc-4b9f-846f-d9c8f39d1e88",
   "metadata": {},
   "source": [
    "### Como se puede apreciar, se consigue lo mismo con menos líneas"
   ]
  },
  {
   "cell_type": "code",
   "execution_count": 1,
   "id": "f2fa6088-7bb4-4091-b2db-f73361d26cd3",
   "metadata": {},
   "outputs": [
    {
     "name": "stdout",
     "output_type": "stream",
     "text": [
      "Esto es un teto de prueba\n"
     ]
    }
   ],
   "source": [
    "with open(\"test.txt\"):\n",
    "    print(texto)"
   ]
  },
  {
   "cell_type": "markdown",
   "id": "de2b440b-9f50-4e0c-8d4b-b9f9fbab278c",
   "metadata": {},
   "source": [
    "Permite usar una variable para guardar la salida de la primera parte de with"
   ]
  },
  {
   "cell_type": "code",
   "execution_count": null,
   "id": "77a633b7-ad9c-40d8-85aa-c226e4fb1f17",
   "metadata": {},
   "outputs": [],
   "source": [
    "with open(\"test.txt\") as f:\n",
    "    texto = f.read()\n",
    "    print(texto)"
   ]
  },
  {
   "cell_type": "markdown",
   "id": "021e85b1-3959-4243-9cc8-1d8bc1080072",
   "metadata": {},
   "source": [
    "Como se puede ver, también hace manejo de errores"
   ]
  },
  {
   "cell_type": "code",
   "execution_count": 3,
   "id": "62112b31-0495-4021-abe5-b8d14b6e0c11",
   "metadata": {},
   "outputs": [
    {
     "ename": "NameError",
     "evalue": "name 'text' is not defined",
     "output_type": "error",
     "traceback": [
      "\u001b[1;31m---------------------------------------------------------------------------\u001b[0m",
      "\u001b[1;31mNameError\u001b[0m                                 Traceback (most recent call last)",
      "Cell \u001b[1;32mIn[3], line 3\u001b[0m\n\u001b[0;32m      1\u001b[0m \u001b[38;5;28;01mwith\u001b[39;00m \u001b[38;5;28mopen\u001b[39m(\u001b[38;5;124m\"\u001b[39m\u001b[38;5;124mtest.txt\u001b[39m\u001b[38;5;124m\"\u001b[39m) \u001b[38;5;28;01mas\u001b[39;00m f:\n\u001b[0;32m      2\u001b[0m     texto \u001b[38;5;241m=\u001b[39m f\u001b[38;5;241m.\u001b[39mread()\n\u001b[1;32m----> 3\u001b[0m     \u001b[38;5;28mprint\u001b[39m(\u001b[43mtext\u001b[49m)\n",
      "\u001b[1;31mNameError\u001b[0m: name 'text' is not defined"
     ]
    }
   ],
   "source": [
    "with open(\"test.txt\") as f:\n",
    "    texto = f.read()\n",
    "    print(text)"
   ]
  }
 ],
 "metadata": {
  "kernelspec": {
   "display_name": "Python 3 (ipykernel)",
   "language": "python",
   "name": "python3"
  },
  "language_info": {
   "codemirror_mode": {
    "name": "ipython",
    "version": 3
   },
   "file_extension": ".py",
   "mimetype": "text/x-python",
   "name": "python",
   "nbconvert_exporter": "python",
   "pygments_lexer": "ipython3",
   "version": "3.11.1"
  }
 },
 "nbformat": 4,
 "nbformat_minor": 5
}
