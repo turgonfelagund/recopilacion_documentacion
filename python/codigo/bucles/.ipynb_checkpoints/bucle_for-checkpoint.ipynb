{
 "cells": [
  {
   "cell_type": "markdown",
   "id": "f40a1475-c9e6-4ce7-b01e-42915f74a72e",
   "metadata": {},
   "source": [
    "### Codigo perteneciente a For. Vid 47"
   ]
  },
  {
   "cell_type": "markdown",
   "id": "9b63fa07-4627-43fc-969a-32f87536a606",
   "metadata": {},
   "source": [
    "Los bucles while son peligrosos pues pueden provocar un bucle infinito"
   ]
  },
  {
   "cell_type": "code",
   "execution_count": 2,
   "id": "706dcfff-a538-4d0b-9e1b-81783f906f04",
   "metadata": {},
   "outputs": [
    {
     "name": "stdout",
     "output_type": "stream",
     "text": [
      "1\n",
      "2\n",
      "3\n",
      "4\n",
      "5\n",
      "6\n",
      "7\n",
      "8\n",
      "9\n"
     ]
    }
   ],
   "source": [
    "lista = [1,2,3,4,5,6,7,8,9];\n",
    "indice = 0\n",
    "while indice < len(lista):\n",
    "    print(lista[indice]);\n",
    "    indice += 1; # Eliminar esta linea para hacer bucle infinito"
   ]
  },
  {
   "cell_type": "markdown",
   "id": "4a3ce900-1a96-47ea-a969-304951a7962e",
   "metadata": {},
   "source": [
    "El bucle \"for in\" puede recorrer los items de un objeto o una lista"
   ]
  },
  {
   "cell_type": "code",
   "execution_count": 4,
   "id": "ff737b1e-a101-42c5-843d-8463f5476f41",
   "metadata": {},
   "outputs": [
    {
     "name": "stdout",
     "output_type": "stream",
     "text": [
      "1\n",
      "2\n",
      "3\n",
      "4\n",
      "5\n",
      "6\n",
      "7\n",
      "8\n",
      "9\n"
     ]
    }
   ],
   "source": [
    "#Ejemplo de bucle for in\n",
    "#Cada item en cada iteracion, se guarda en la variable recorrer\n",
    "for recorrer in lista:\n",
    "    print(recorrer);"
   ]
  },
  {
   "cell_type": "code",
   "execution_count": null,
   "id": "b226fdd6-4ff7-4573-bb13-9bf581510c3e",
   "metadata": {},
   "outputs": [],
   "source": [
    "lista = [1,2,3,4,5,6,7,8,9];\n",
    "indice = 0;\n",
    "#El metodo enumerate() genera un indice para cada item una lista\n",
    "#En el ejemplo se muestra ademas como guardar en las variables \"indice\" y\n",
    "# \"recorrer\", los valores devueltos por enumerate()\n",
    "for indice, recorrer in enumerate(lista):\n",
    "    lista[indice] *= 10;\n",
    "    print(indice, \"indice de la lista\");\n",
    "    print(recorrer, \"item de la lista\\n\");\n",
    "lista"
   ]
  },
  {
   "cell_type": "markdown",
   "id": "d376cc07-cdb9-4340-bc82-bf40d6abd2a3",
   "metadata": {},
   "source": [
    "Tambien se puede aplicar un for in sobre un string"
   ]
  },
  {
   "cell_type": "code",
   "execution_count": 13,
   "id": "b438a266-a614-4b03-bef2-05b5f601ce43",
   "metadata": {},
   "outputs": [
    {
     "name": "stdout",
     "output_type": "stream",
     "text": [
      "A\n",
      "n\n",
      "a\n"
     ]
    }
   ],
   "source": [
    "string = 'Ana';\n",
    "for caracteres in string:\n",
    "    print(caracteres);"
   ]
  },
  {
   "cell_type": "markdown",
   "id": "05dfb424-51d7-4db2-9348-d43e352716ca",
   "metadata": {},
   "source": [
    "Se puede usar la funcion range() para aplicar un numero de repeticiones"
   ]
  },
  {
   "cell_type": "code",
   "execution_count": 17,
   "id": "2665cbce-7074-4a60-8c66-9375c4d7c0ab",
   "metadata": {},
   "outputs": [
    {
     "name": "stdout",
     "output_type": "stream",
     "text": [
      "0\n",
      "1\n",
      "2\n",
      "3\n",
      "4\n",
      "5\n",
      "6\n",
      "7\n",
      "8\n",
      "9\n"
     ]
    }
   ],
   "source": [
    "# La variable \"i\" recoge los valores pasados por range()\n",
    "for i in range(10) :\n",
    "    print(i);"
   ]
  },
  {
   "cell_type": "markdown",
   "id": "de9a7802-9b68-4418-9f01-5fc301da72a8",
   "metadata": {},
   "source": [
    "Tambien se puede recorrer un objeto"
   ]
  },
  {
   "cell_type": "code",
   "execution_count": 28,
   "id": "89aecc26-3328-481e-b101-9811e0237856",
   "metadata": {},
   "outputs": [
    {
     "name": "stdout",
     "output_type": "stream",
     "text": [
      "letra= A , num= 4\n",
      "letra= E , num= 3\n",
      "letra= I , num= 1\n",
      "letra= O , num= 0\n"
     ]
    }
   ],
   "source": [
    "lista = {'A': 4, 'E': 3, 'I': 1, 'O': 0}\n",
    "for a, n in lista.items():\n",
    "    print(\"letra=\", a, ', num=', n);"
   ]
  },
  {
   "cell_type": "code",
   "execution_count": 43,
   "id": "c6cb292d-02bf-4ffd-b6a7-729b5f0b60d4",
   "metadata": {},
   "outputs": [
    {
     "data": {
      "text/plain": [
       "[0, 1, 2, 3, 4, 5, 6, 7, 8, 9]"
      ]
     },
     "execution_count": 43,
     "metadata": {},
     "output_type": "execute_result"
    }
   ],
   "source": [
    "bla = list(range(10));\n",
    "bla"
   ]
  }
 ],
 "metadata": {
  "kernelspec": {
   "display_name": "Python 3 (ipykernel)",
   "language": "python",
   "name": "python3"
  },
  "language_info": {
   "codemirror_mode": {
    "name": "ipython",
    "version": 3
   },
   "file_extension": ".py",
   "mimetype": "text/x-python",
   "name": "python",
   "nbconvert_exporter": "python",
   "pygments_lexer": "ipython3",
   "version": "3.11.1"
  }
 },
 "nbformat": 4,
 "nbformat_minor": 5
}
