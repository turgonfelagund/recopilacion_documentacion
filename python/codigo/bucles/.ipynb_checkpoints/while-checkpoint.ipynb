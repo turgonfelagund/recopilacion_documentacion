{
 "cells": [
  {
   "cell_type": "markdown",
   "id": "52927986-e83b-4f7e-a36a-d14bbd06c6fd",
   "metadata": {},
   "source": [
    "### Parte de while. Vid 45"
   ]
  },
  {
   "cell_type": "code",
   "execution_count": 1,
   "id": "f7cb4af6-6906-4e06-9042-c60ca58b6b26",
   "metadata": {},
   "outputs": [
    {
     "name": "stdout",
     "output_type": "stream",
     "text": [
      "Es la iteracion numero 1\n",
      "Es la iteracion numero 2\n",
      "Es la iteracion numero 3\n"
     ]
    }
   ],
   "source": [
    "iteracion = 1;\n",
    "while iteracion<=3 :\n",
    "    print(\"Es la iteracion numero\", iteracion);\n",
    "    iteracion += 1;"
   ]
  },
  {
   "cell_type": "markdown",
   "id": "85fd02af-10ce-473e-9af4-71bb296b660d",
   "metadata": {},
   "source": [
    "El bucle while, tambien puede incluir una clausula else"
   ]
  },
  {
   "cell_type": "code",
   "execution_count": 2,
   "id": "916d3718-204a-4a5b-b842-5e99a8fd8c41",
   "metadata": {},
   "outputs": [
    {
     "name": "stdout",
     "output_type": "stream",
     "text": [
      "Es la iteracion numero 1\n",
      "Es la iteracion numero 2\n",
      "Es la iteracion numero 3\n",
      "El bucle termino\n"
     ]
    }
   ],
   "source": [
    "#Ejemplo con clausula else\n",
    "iteracion = 1;\n",
    "while iteracion<=3 :\n",
    "    print(\"Es la iteracion numero\", iteracion);\n",
    "    iteracion += 1;\n",
    "else:\n",
    "    print(\"El bucle termino\");"
   ]
  },
  {
   "cell_type": "markdown",
   "id": "e9299bcc-cc65-4539-b701-e8e2d8e346f4",
   "metadata": {},
   "source": [
    "Con la clausula break, podemos cortar el bucle"
   ]
  },
  {
   "cell_type": "code",
   "execution_count": 3,
   "id": "1d6919af-7b9a-4ccd-9aed-c91b49936f15",
   "metadata": {},
   "outputs": [
    {
     "name": "stdout",
     "output_type": "stream",
     "text": [
      "Es la iteracion numero 1\n"
     ]
    }
   ],
   "source": [
    "#Con \"break\" solo se ejecuta una vez\n",
    "iteracion = 1;\n",
    "while iteracion<=3 :\n",
    "    print(\"Es la iteracion numero\", iteracion);\n",
    "    iteracion += 1;\n",
    "    break"
   ]
  },
  {
   "cell_type": "code",
   "execution_count": 4,
   "id": "1b8da09a-9bf7-4dd6-b775-b5dddd87df83",
   "metadata": {},
   "outputs": [
    {
     "name": "stdout",
     "output_type": "stream",
     "text": [
      "Es la iteracion numero 1\n",
      "Es la iteracion numero 2\n",
      "Es la iteracion numero 3\n",
      "Acabando bucle\n"
     ]
    }
   ],
   "source": [
    "#Observar como la tabulacion extrae el incremento de la variable iteracion\n",
    "#de la condicion, y como la palabra \"break\" corta el bucle omitiendo el \"else\"\n",
    "iteracion = 1;\n",
    "while iteracion<=3 :\n",
    "    print(\"Es la iteracion numero\", iteracion);\n",
    "    if (iteracion == 3):\n",
    "        print(\"Acabando bucle\");\n",
    "        break;\n",
    "    iteracion += 1;\n",
    "else:\n",
    "    print(\"El bucle no cumplio la condicion\");"
   ]
  },
  {
   "cell_type": "markdown",
   "id": "718fdc12-9a1c-4d91-b9b0-8cd0ea46d4b7",
   "metadata": {},
   "source": [
    "### Video de practica. Vid 46"
   ]
  },
  {
   "cell_type": "code",
   "execution_count": 1,
   "id": "26bfbdcd-cecf-4253-a88e-1bc938aa8359",
   "metadata": {},
   "outputs": [
    {
     "name": "stdout",
     "output_type": "stream",
     "text": [
      "Elige tu camino\n"
     ]
    },
    {
     "name": "stdin",
     "output_type": "stream",
     "text": [
      "Escribe empezar para iniciar el programar empezar\n"
     ]
    },
    {
     "name": "stdout",
     "output_type": "stream",
     "text": [
      "¿Qué camino quieres elegir?\n",
      "    escribe la opcion con numero\n",
      "    1 - Quiero que me saludes\n",
      "    2 - Deseo multiplicar ya que no se como hacerlo\n",
      "    3 - Quiero salir de este programa, ya que aprendí a multiplicar con el curso\n",
      "    4 - Salir del programa\n"
     ]
    },
    {
     "name": "stdin",
     "output_type": "stream",
     "text": [
      " 4\n"
     ]
    }
   ],
   "source": [
    "print(\"Elige tu camino\");\n",
    "inicio = input('Escribe empezar para iniciar el programar');\n",
    "while(inicio==\"empezar\"):\n",
    "    print(\"\"\"¿Qué camino quieres elegir?\n",
    "    escribe la opcion con numero\n",
    "    1 - Quiero que me saludes\n",
    "    2 - Deseo multiplicar ya que no se como hacerlo\n",
    "    3 - Quiero salir de este programa, ya que aprendí a multiplicar con el curso\n",
    "    4 - Salir del programa\"\"\");\n",
    "    opcion = input();\n",
    "    if (opcion == \"1\"):\n",
    "        print(\"Hola mundooo!!!\");\n",
    "    elif opcion == \"2\":\n",
    "        numero1 = float(input(\"Introduce el valor a multiplicar primero: \"));\n",
    "        numero2 = float(input(\"Introduce el valor a multiplicar segundo: \"));\n",
    "        print(\"El resultado es:\", numero1*numero2);\n",
    "    elif opcion == \"3\" :\n",
    "        print(\"Excelente decisión haber aprendido programación\");\n",
    "    elif opcion == \"4\" :\n",
    "        break;\n",
    "    else:\n",
    "        print(\"La elección que tomaste no se encuentra contemplada\");\n",
    "        break; #Sin esta clausula se repite el while"
   ]
  },
  {
   "cell_type": "markdown",
   "id": "414ab200-5fbb-4224-b315-10c7273318fb",
   "metadata": {},
   "source": [
    "Con la claúsula finally se ejecuta un bloque siempre que el bucle complete una vuelta, haya error o no. Adición personal"
   ]
  },
  {
   "cell_type": "code",
   "execution_count": 1,
   "id": "c7c04e8a-cbb5-4c39-8bf8-2bad4ac8b5aa",
   "metadata": {},
   "outputs": [
    {
     "name": "stdin",
     "output_type": "stream",
     "text": [
      "Introduce algo: a\n"
     ]
    },
    {
     "name": "stdout",
     "output_type": "stream",
     "text": [
      "No introduciste un número, te voy a dar otra oportunidad\n",
      "bucle finalizado\n"
     ]
    },
    {
     "name": "stdin",
     "output_type": "stream",
     "text": [
      "Introduce algo: a\n"
     ]
    },
    {
     "name": "stdout",
     "output_type": "stream",
     "text": [
      "No introduciste un número, te voy a dar otra oportunidad\n",
      "bucle finalizado\n"
     ]
    },
    {
     "name": "stdin",
     "output_type": "stream",
     "text": [
      "Introduce algo: 2\n"
     ]
    },
    {
     "name": "stdout",
     "output_type": "stream",
     "text": [
      "resultado: 4.0\n",
      "Iniciaste sesión amigo\n",
      "bucle finalizado\n"
     ]
    }
   ],
   "source": [
    "while(True):\n",
    "    try:\n",
    "        variable = float(input(\"Introduce algo:\"))\n",
    "        a = 2\n",
    "        print(f\"resultado: {a * variable}\")\n",
    "    except:\n",
    "        print(\"No introduciste un número, te voy a dar otra oportunidad\")\n",
    "# Else se ejecuta si no se ejecuta except\n",
    "    else:\n",
    "        print(\"Iniciaste sesión amigo\")\n",
    "        break\n",
    "    finally:\n",
    "        print(\"bucle finalizado\")"
   ]
  }
 ],
 "metadata": {
  "kernelspec": {
   "display_name": "Python 3 (ipykernel)",
   "language": "python",
   "name": "python3"
  },
  "language_info": {
   "codemirror_mode": {
    "name": "ipython",
    "version": 3
   },
   "file_extension": ".py",
   "mimetype": "text/x-python",
   "name": "python",
   "nbconvert_exporter": "python",
   "pygments_lexer": "ipython3",
   "version": "3.11.1"
  }
 },
 "nbformat": 4,
 "nbformat_minor": 5
}
