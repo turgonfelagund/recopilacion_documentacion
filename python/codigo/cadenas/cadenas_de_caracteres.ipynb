{
 "cells": [
  {
   "cell_type": "markdown",
   "id": "df7c649a",
   "metadata": {},
   "source": [
    "### Aqui comienza la primera parte de strings"
   ]
  },
  {
   "cell_type": "code",
   "execution_count": 1,
   "id": "2fb95fd1",
   "metadata": {},
   "outputs": [],
   "source": [
    "strg = \"Hello 'World'\""
   ]
  },
  {
   "cell_type": "code",
   "execution_count": 2,
   "id": "fb0ee1e6",
   "metadata": {},
   "outputs": [
    {
     "data": {
      "text/plain": [
       "str"
      ]
     },
     "execution_count": 2,
     "metadata": {},
     "output_type": "execute_result"
    }
   ],
   "source": [
    "# type() muestra el tipo del argumento recibido\n",
    "type(strg)"
   ]
  },
  {
   "cell_type": "code",
   "execution_count": 3,
   "id": "2b195aff",
   "metadata": {},
   "outputs": [
    {
     "name": "stdout",
     "output_type": "stream",
     "text": [
      "Hello 'World'\n"
     ]
    }
   ],
   "source": [
    "print(strg)"
   ]
  },
  {
   "cell_type": "code",
   "execution_count": 4,
   "id": "6964e384",
   "metadata": {},
   "outputs": [
    {
     "name": "stdout",
     "output_type": "stream",
     "text": [
      "Esta es la linea 1 \n",
      "y esta la linea 2\n"
     ]
    }
   ],
   "source": [
    "#Con \"\\n\" hacemos un salto de linea. Notese que no hace falta separar \\n del resto del string\n",
    "print(\"Esta es la linea 1 \\ny esta la linea 2\")"
   ]
  },
  {
   "cell_type": "code",
   "execution_count": 5,
   "id": "4a1a52a2",
   "metadata": {},
   "outputs": [
    {
     "name": "stdout",
     "output_type": "stream",
     "text": [
      "aplicamos un \tespacio de tab\n"
     ]
    }
   ],
   "source": [
    "#Con \"\\t\" tabulamos. Al igual que antes, no hace falta separar \\t del resto del string\n",
    "print('aplicamos un \\tespacio de tab')"
   ]
  },
  {
   "cell_type": "code",
   "execution_count": 7,
   "id": "1f2ce6d1",
   "metadata": {},
   "outputs": [
    {
     "name": "stdout",
     "output_type": "stream",
     "text": [
      "C:\n",
      "ombres\\clases \n",
      "\n",
      "C:\\nombres\\clases\n"
     ]
    }
   ],
   "source": [
    "#Usando \"r\" delante del string evitamos el uso de caracteres especiales\n",
    "print('C:\\nombres\\clases \\n')\n",
    "print(r'C:\\nombres\\clases')"
   ]
  },
  {
   "cell_type": "markdown",
   "id": "b53b9041",
   "metadata": {},
   "source": [
    "### Las 2 siguientes celdas no salen en el video"
   ]
  },
  {
   "cell_type": "code",
   "execution_count": 12,
   "id": "2504711b",
   "metadata": {},
   "outputs": [
    {
     "name": "stdout",
     "output_type": "stream",
     "text": [
      "hola mundo\n",
      "hola mundo\n"
     ]
    }
   ],
   "source": [
    "#Concatenar strings se puede hacer de dos formas. Con \",\" o con \"+\"\n",
    "#Con \",\" el espacio entre string se incluye por defecto\n",
    "#Con \"+\" hay no hay espacio\n",
    "print('hola','mundo') #Ejemplo con \",\"\n",
    "print('hola'+' mundo') #Ejemplo con \"+\""
   ]
  },
  {
   "cell_type": "markdown",
   "id": "86b179f2-fd9d-41e8-ad8e-f2da55bc5d96",
   "metadata": {
    "tags": []
   },
   "source": [
    "### Se puede multiplicar un String con un operador "
   ]
  },
  {
   "cell_type": "code",
   "execution_count": 4,
   "id": "11087a10-323a-4409-be72-cc140f74edc2",
   "metadata": {},
   "outputs": [
    {
     "name": "stdout",
     "output_type": "stream",
     "text": [
      "CalabazaCalabazaCalabaza\n"
     ]
    }
   ],
   "source": [
    "palabra = \"Calabaza\";\n",
    "print(palabra*3);"
   ]
  },
  {
   "cell_type": "markdown",
   "id": "93915b0e",
   "metadata": {},
   "source": [
    "### A partir de aqui comienza la parte 2 de strings"
   ]
  },
  {
   "cell_type": "code",
   "execution_count": 20,
   "id": "9c49aa59",
   "metadata": {},
   "outputs": [
    {
     "name": "stdout",
     "output_type": "stream",
     "text": [
      "Linea 1\n",
      "linea 2\n",
      "linea 3 con \t tabulacion\n"
     ]
    }
   ],
   "source": [
    "#Con 3 dobles comillas, podemos ahorrarnos los saltos \"\\n\" pero no las tabulaciones \\t\n",
    "print(\"\"\"Linea 1\n",
    "linea 2\n",
    "linea 3 con \\t tabulacion\"\"\")"
   ]
  },
  {
   "cell_type": "code",
   "execution_count": null,
   "id": "193b6056-bf07-48a9-be2c-81f9b7352a18",
   "metadata": {},
   "outputs": [],
   "source": [
    "#Para poder situarlo todo a mismo margen sin salto incluimos \"\\\"\n",
    "# \"\\\" se incluye al inicio\n",
    "print(\"\"\"\\\n",
    "Linea 1\n",
    "linea 2\n",
    "linea 3 con \\t tabulacion\"\"\")"
   ]
  },
  {
   "cell_type": "code",
   "execution_count": 25,
   "id": "cdcdf665",
   "metadata": {},
   "outputs": [
    {
     "data": {
      "text/plain": [
       "'Este en un string con \\nsalto de linea'"
      ]
     },
     "execution_count": 25,
     "metadata": {},
     "output_type": "execute_result"
    }
   ],
   "source": [
    "#Una variable con un string puede albergar un salto de linea, pero solo se mostrara con la impresion\n",
    "string = \"Este en un string con \\nsalto de linea\"\n",
    "#ejemplo sin impresion\n",
    "string"
   ]
  },
  {
   "cell_type": "code",
   "execution_count": 24,
   "id": "4c968dc5",
   "metadata": {},
   "outputs": [
    {
     "name": "stdout",
     "output_type": "stream",
     "text": [
      "Este en un string con \n",
      "salto de linea\n"
     ]
    }
   ],
   "source": [
    "#ejemplo con impresion\n",
    "print(string)"
   ]
  },
  {
   "cell_type": "markdown",
   "id": "34594799",
   "metadata": {},
   "source": [
    "### Aqui comienzan los indices de las cadenas"
   ]
  },
  {
   "cell_type": "code",
   "execution_count": 3,
   "id": "56b07749",
   "metadata": {},
   "outputs": [
    {
     "name": "stdout",
     "output_type": "stream",
     "text": [
      "E\n"
     ]
    },
    {
     "data": {
      "text/plain": [
       "'l'"
      ]
     },
     "execution_count": 3,
     "metadata": {},
     "output_type": "execute_result"
    }
   ],
   "source": [
    "#Se puede acceder a un caracter por su indice en el string\n",
    "\n",
    "#ejemplo\n",
    "#Cadena\n",
    "frase = \"El cielo es soleado\"\n",
    "\n",
    "#Impresion por caracteres\n",
    "print(frase[0])\n",
    "frase[1]"
   ]
  },
  {
   "cell_type": "code",
   "execution_count": 7,
   "id": "6d1dc54c",
   "metadata": {},
   "outputs": [
    {
     "name": "stdout",
     "output_type": "stream",
     "text": [
      "o\n",
      "a\n"
     ]
    }
   ],
   "source": [
    "#Los indices tambien pueden recorrer el string en sentido opuesto si usamos valores negativos\n",
    "\n",
    "print(frase[-1])\n",
    "print(frase[-3])"
   ]
  },
  {
   "cell_type": "code",
   "execution_count": 26,
   "id": "c11c88f6",
   "metadata": {},
   "outputs": [
    {
     "name": "stdout",
     "output_type": "stream",
     "text": [
      "El cielo es solead\n",
      "l ci\n",
      "cielo es soleado\n",
      "El cielo\n"
     ]
    }
   ],
   "source": [
    "#Tambien se puede recorrer un intervalo. El ultimo valor del intervalo no es incluido; por ejemplo, 1:3 imprimiria los indices\n",
    "#1 y 2 pero no el 3.\n",
    "\n",
    "print(frase[0:-1])\n",
    "print(frase[1:5])\n",
    "\n",
    "#Si pretendemos llegar al final, no poner nada al final del intervalo.\n",
    "print(frase[3:])\n",
    "\n",
    "#Tambien se puede hacer a la inversa\n",
    "print(frase[:8])"
   ]
  },
  {
   "cell_type": "code",
   "execution_count": 4,
   "id": "5b795902",
   "metadata": {},
   "outputs": [
    {
     "name": "stdout",
     "output_type": "stream",
     "text": [
      "19\n"
     ]
    }
   ],
   "source": [
    "#Para contar los caracteres usar el metodo len()\n",
    "print(len(frase))"
   ]
  },
  {
   "cell_type": "markdown",
   "id": "680f1a61-660c-4822-a578-6f12233daf33",
   "metadata": {},
   "source": [
    "Para concatenar un string y un numero, usar una \",\""
   ]
  },
  {
   "cell_type": "code",
   "execution_count": 3,
   "id": "7f37aa2b-effd-4ae7-864e-d03304ace1da",
   "metadata": {},
   "outputs": [
    {
     "name": "stdout",
     "output_type": "stream",
     "text": [
      "Tenemos 2 manzanas\n"
     ]
    }
   ],
   "source": [
    "num = 2;\n",
    "print(\"Tenemos\", num, \"manzanas\");"
   ]
  }
 ],
 "metadata": {
  "kernelspec": {
   "display_name": "Python 3 (ipykernel)",
   "language": "python",
   "name": "python3"
  },
  "language_info": {
   "codemirror_mode": {
    "name": "ipython",
    "version": 3
   },
   "file_extension": ".py",
   "mimetype": "text/x-python",
   "name": "python",
   "nbconvert_exporter": "python",
   "pygments_lexer": "ipython3",
   "version": "3.11.1"
  }
 },
 "nbformat": 4,
 "nbformat_minor": 5
}
