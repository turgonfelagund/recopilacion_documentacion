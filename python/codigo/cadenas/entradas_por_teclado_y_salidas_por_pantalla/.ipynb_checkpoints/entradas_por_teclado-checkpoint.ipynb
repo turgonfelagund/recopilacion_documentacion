{
 "cells": [
  {
   "cell_type": "markdown",
   "id": "26a7bdd6-6d52-4b54-80c6-a5717111a13e",
   "metadata": {},
   "source": [
    "### Entradas por teclado. Vid 53"
   ]
  },
  {
   "cell_type": "markdown",
   "id": "fa7f61fd-14ae-4755-b472-3cd64113625d",
   "metadata": {},
   "source": [
    "Con el método input() se puede solicitar información a un usuario por el teclado"
   ]
  },
  {
   "cell_type": "code",
   "execution_count": 1,
   "id": "f28f2bea-abae-436d-a041-ff2abe1ea788",
   "metadata": {},
   "outputs": [
    {
     "name": "stdin",
     "output_type": "stream",
     "text": [
      "Ingresa tu clave Hola\n"
     ]
    }
   ],
   "source": [
    "ingreso = input(\"Ingresa tu clave\")"
   ]
  },
  {
   "cell_type": "code",
   "execution_count": 2,
   "id": "ed59817e-fefd-438a-b759-e0b614b8dfa5",
   "metadata": {},
   "outputs": [
    {
     "data": {
      "text/plain": [
       "'Hola'"
      ]
     },
     "execution_count": 2,
     "metadata": {},
     "output_type": "execute_result"
    }
   ],
   "source": [
    "ingreso"
   ]
  },
  {
   "cell_type": "code",
   "execution_count": 3,
   "id": "c51b8044-818d-443b-9884-f0bbe8f620a1",
   "metadata": {},
   "outputs": [],
   "source": [
    "lista = []"
   ]
  },
  {
   "cell_type": "code",
   "execution_count": 8,
   "id": "082cc005-ea55-4d0c-8faf-6f46f13b0f13",
   "metadata": {},
   "outputs": [
    {
     "name": "stdout",
     "output_type": "stream",
     "text": [
      "Ingresa ya 5 números\n"
     ]
    },
    {
     "name": "stdin",
     "output_type": "stream",
     "text": [
      "Ingresa un número:  1\n",
      "Ingresa un número:  2\n",
      "Ingresa un número:  3\n",
      "Ingresa un número:  3\n",
      "Ingresa un número:  4\n"
     ]
    }
   ],
   "source": [
    "print(\"Ingresa ya 5 números\")\n",
    "for i in range(5) :\n",
    "    lista.append(input(\"Ingresa un número: \"))"
   ]
  },
  {
   "cell_type": "markdown",
   "id": "bd4a8d56-b19c-4c91-8668-39e5a4dd8c96",
   "metadata": {},
   "source": [
    "Vemos que se han guardado y acumulado los valores de todos los  numeros introducidos en los ciclos"
   ]
  },
  {
   "cell_type": "code",
   "execution_count": 9,
   "id": "0dd7827b-6fca-4f11-ad46-95a819b55c6d",
   "metadata": {},
   "outputs": [
    {
     "data": {
      "text/plain": [
       "['5', '4', '3', '2', '1', '4', '4', '4', '4', '4', '1', '2', '3', '3', '4']"
      ]
     },
     "execution_count": 9,
     "metadata": {},
     "output_type": "execute_result"
    }
   ],
   "source": [
    "lista"
   ]
  }
 ],
 "metadata": {
  "kernelspec": {
   "display_name": "Python 3 (ipykernel)",
   "language": "python",
   "name": "python3"
  },
  "language_info": {
   "codemirror_mode": {
    "name": "ipython",
    "version": 3
   },
   "file_extension": ".py",
   "mimetype": "text/x-python",
   "name": "python",
   "nbconvert_exporter": "python",
   "pygments_lexer": "ipython3",
   "version": "3.11.1"
  }
 },
 "nbformat": 4,
 "nbformat_minor": 5
}
