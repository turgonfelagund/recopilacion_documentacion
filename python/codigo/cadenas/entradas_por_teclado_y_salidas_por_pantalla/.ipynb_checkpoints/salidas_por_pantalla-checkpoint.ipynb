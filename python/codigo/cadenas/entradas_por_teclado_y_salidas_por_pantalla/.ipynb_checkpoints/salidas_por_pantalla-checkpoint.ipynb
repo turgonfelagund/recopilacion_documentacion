{
 "cells": [
  {
   "cell_type": "markdown",
   "id": "b3249faf-6a01-4443-93e9-44a477de1e0a",
   "metadata": {},
   "source": [
    "### Salida por pantalla. Vid 54"
   ]
  },
  {
   "cell_type": "markdown",
   "id": "6be425dc-6b97-4362-879d-90acb91490fc",
   "metadata": {},
   "source": [
    "Se pueden ingresar variables dentro de un string.\n",
    "\n",
    "Estas varibles se identifican con el método format(), que recibe las variables como argumento."
   ]
  },
  {
   "cell_type": "code",
   "execution_count": 1,
   "id": "630686e1-d8fa-46fe-8d25-1da9001a24d5",
   "metadata": {},
   "outputs": [],
   "source": [
    "nombre = \"Ana\";\n",
    "cualidad = \"muy buena\";"
   ]
  },
  {
   "cell_type": "code",
   "execution_count": 4,
   "id": "617c86ae-2e50-4453-ba92-7fa72a20d696",
   "metadata": {},
   "outputs": [],
   "source": [
    "# Las llaves indican el lugar donde se situan las variables\n",
    "# Atencion a orden de las variables en format()\n",
    "forma = \"{} es {} estudiante\".format(nombre, cualidad)"
   ]
  },
  {
   "cell_type": "code",
   "execution_count": 5,
   "id": "51837b34-3eb4-4a7b-a99f-bed1873cedbd",
   "metadata": {},
   "outputs": [
    {
     "data": {
      "text/plain": [
       "'Ana es muy buena estudiante'"
      ]
     },
     "execution_count": 5,
     "metadata": {},
     "output_type": "execute_result"
    }
   ],
   "source": [
    "forma"
   ]
  },
  {
   "cell_type": "markdown",
   "id": "c21d94c8-d5ba-48f0-9060-4675944238c6",
   "metadata": {},
   "source": [
    "También podemos asignar un orden a las llaves para poder colocar las variables donde queramos"
   ]
  },
  {
   "cell_type": "code",
   "execution_count": 6,
   "id": "b7731b4a-8fa4-4d64-8bf9-99a8ba44cdcf",
   "metadata": {},
   "outputs": [],
   "source": [
    "forma = \"{1} es {0} estudiante\".format(nombre, cualidad)"
   ]
  },
  {
   "cell_type": "code",
   "execution_count": 7,
   "id": "2154e7a3-0a29-4be4-8f3f-8ab59e35fb3a",
   "metadata": {},
   "outputs": [
    {
     "data": {
      "text/plain": [
       "'muy buena es Ana estudiante'"
      ]
     },
     "execution_count": 7,
     "metadata": {},
     "output_type": "execute_result"
    }
   ],
   "source": [
    "forma"
   ]
  },
  {
   "cell_type": "markdown",
   "id": "bbb84fee-1bdd-4446-97bb-bb1d819e2ff6",
   "metadata": {},
   "source": [
    "Otra forma de utilizar forma para asociar varaibles a un estring es la siguiente"
   ]
  },
  {
   "cell_type": "code",
   "execution_count": 18,
   "id": "db9220a0-6e48-4182-ad10-954637d350a9",
   "metadata": {},
   "outputs": [
    {
     "name": "stdout",
     "output_type": "stream",
     "text": [
      "Cuesta 49.00 euros\n"
     ]
    }
   ],
   "source": [
    "txt = \"Cuesta {precio:.2f} euros\"\n",
    "print(txt.format(precio = 49))"
   ]
  },
  {
   "cell_type": "code",
   "execution_count": 21,
   "id": "1426d44a-373c-40db-ad0c-f4be32a39e7f",
   "metadata": {},
   "outputs": [
    {
     "name": "stdout",
     "output_type": "stream",
     "text": [
      "El tiempo está soleado\n"
     ]
    }
   ],
   "source": [
    "txt = \"El tiempo está {tiempo}\"\n",
    "print(txt.format(tiempo = \"soleado\"))"
   ]
  },
  {
   "cell_type": "markdown",
   "id": "a5dd87df-ee58-4a55-a4b7-f1aa6531f9e7",
   "metadata": {},
   "source": [
    "Con format tambien podemos ingresar espacios.\n",
    "\n",
    "Entre llaves indicamos el némero de veces que queremos que aparezca el espacio, y con el método format(), indicamos el contenido"
   ]
  },
  {
   "cell_type": "code",
   "execution_count": 28,
   "id": "2cacf5fa-f66c-4bb2-b8a7-8686f294d721",
   "metadata": {},
   "outputs": [
    {
     "name": "stdout",
     "output_type": "stream",
     "text": [
      "Hola                                            Juan K\n"
     ]
    }
   ],
   "source": [
    "print(\"Hola{:>50}\".format(\"Juan K\"))"
   ]
  },
  {
   "cell_type": "markdown",
   "id": "afe74fae-ec89-4968-8a2e-150eb602ca2f",
   "metadata": {},
   "source": [
    "Aunque format no es necesario para usar variables directamente dentro de un string si incluimos format con una \"f\" delante del string.\n",
    "\n",
    "IMPORTANTE Este debe ir entre llaves"
   ]
  },
  {
   "cell_type": "code",
   "execution_count": 29,
   "id": "fd20ac00-e754-45ff-aa42-8b8de56869de",
   "metadata": {},
   "outputs": [],
   "source": [
    "nombre = \"Ana\";\n",
    "cualidad = \"muy buena\";"
   ]
  },
  {
   "cell_type": "code",
   "execution_count": 36,
   "id": "3ba9b166-0e3b-4c83-8f55-244106efe2eb",
   "metadata": {},
   "outputs": [
    {
     "name": "stdout",
     "output_type": "stream",
     "text": [
      "Ana es muy buena estudiante\n"
     ]
    }
   ],
   "source": [
    "print(f\"{nombre} es {cualidad} estudiante\")"
   ]
  },
  {
   "cell_type": "markdown",
   "id": "32c1d1c5-e1a6-4e32-89da-7d671980963b",
   "metadata": {},
   "source": [
    "Además, también se pueden llevar a cabo operaciones ternarias con el estring funcion"
   ]
  },
  {
   "cell_type": "code",
   "execution_count": 42,
   "id": "a994ed50-0135-4f64-a3fe-4185a1b5aa95",
   "metadata": {},
   "outputs": [
    {
     "name": "stdout",
     "output_type": "stream",
     "text": [
      "5 es mayor\n"
     ]
    }
   ],
   "source": [
    "num1 = 2\n",
    "num2 = 5\n",
    "text1 = f\"{num1} es mayor\"\n",
    "text2 = f\"{num2} es mayor\"\n",
    "print(f'{text1 if num1 > num2 else text2}')"
   ]
  }
 ],
 "metadata": {
  "kernelspec": {
   "display_name": "Python 3 (ipykernel)",
   "language": "python",
   "name": "python3"
  },
  "language_info": {
   "codemirror_mode": {
    "name": "ipython",
    "version": 3
   },
   "file_extension": ".py",
   "mimetype": "text/x-python",
   "name": "python",
   "nbconvert_exporter": "python",
   "pygments_lexer": "ipython3",
   "version": "3.11.1"
  }
 },
 "nbformat": 4,
 "nbformat_minor": 5
}
