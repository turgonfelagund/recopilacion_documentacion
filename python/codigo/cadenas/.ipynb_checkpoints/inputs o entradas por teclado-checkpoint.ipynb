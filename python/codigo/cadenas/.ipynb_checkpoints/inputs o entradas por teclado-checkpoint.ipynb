{
 "cells": [
  {
   "cell_type": "markdown",
   "id": "a37ad7ef",
   "metadata": {},
   "source": [
    "### Este archivo forma parte de las entradas de datos por teclado. Vid 39"
   ]
  },
  {
   "cell_type": "code",
   "execution_count": 1,
   "id": "1fa4aec4",
   "metadata": {},
   "outputs": [
    {
     "name": "stdout",
     "output_type": "stream",
     "text": [
      "carpa\n"
     ]
    },
    {
     "data": {
      "text/plain": [
       "'carpa'"
      ]
     },
     "execution_count": 1,
     "metadata": {},
     "output_type": "execute_result"
    }
   ],
   "source": [
    "#El método input() permite recoger informacion por teclado. Aunque se ingrese un numero, input() recibe un string\n",
    "input()"
   ]
  },
  {
   "cell_type": "code",
   "execution_count": 2,
   "id": "f24280ad",
   "metadata": {},
   "outputs": [
    {
     "name": "stdout",
     "output_type": "stream",
     "text": [
      "Marcos\n"
     ]
    }
   ],
   "source": [
    "dato = input()"
   ]
  },
  {
   "cell_type": "code",
   "execution_count": 3,
   "id": "01bb8ba4",
   "metadata": {},
   "outputs": [
    {
     "data": {
      "text/plain": [
       "'Marcos'"
      ]
     },
     "execution_count": 3,
     "metadata": {},
     "output_type": "execute_result"
    }
   ],
   "source": [
    "dato"
   ]
  },
  {
   "cell_type": "code",
   "execution_count": 15,
   "id": "2bf6745e",
   "metadata": {},
   "outputs": [
    {
     "name": "stdout",
     "output_type": "stream",
     "text": [
      "5\n",
      "10\n",
      "\n",
      "Introduce el precio20\n"
     ]
    },
    {
     "data": {
      "text/plain": [
       "20.0"
      ]
     },
     "execution_count": 15,
     "metadata": {},
     "output_type": "execute_result"
    }
   ],
   "source": [
    "## Para cambiar el string a integer, usar método int(). Lo mismo puede aplicarse para float()\n",
    "\n",
    "#ejemplo 1 con int\n",
    "num = input()\n",
    "\n",
    "num = int(num) + 5\n",
    "\n",
    "print(num)\n",
    "\n",
    "#ejemplo 2 con float\n",
    "flotante = float(input(\"\\nIntroduce el precio con decimales\"))\n",
    "\n",
    "flotante"
   ]
  }
 ],
 "metadata": {
  "kernelspec": {
   "display_name": "Python 3 (ipykernel)",
   "language": "python",
   "name": "python3"
  },
  "language_info": {
   "codemirror_mode": {
    "name": "ipython",
    "version": 3
   },
   "file_extension": ".py",
   "mimetype": "text/x-python",
   "name": "python",
   "nbconvert_exporter": "python",
   "pygments_lexer": "ipython3",
   "version": "3.11.1"
  }
 },
 "nbformat": 4,
 "nbformat_minor": 5
}
