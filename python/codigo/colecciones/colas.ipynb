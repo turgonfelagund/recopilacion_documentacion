{
 "cells": [
  {
   "cell_type": "markdown",
   "id": "7f448da8-5bef-4766-91d7-e9a2ce590208",
   "metadata": {},
   "source": [
    "### Colas. Vid 52"
   ]
  },
  {
   "cell_type": "markdown",
   "id": "0f185435-8d12-4d32-a1f2-edcf8b967565",
   "metadata": {},
   "source": [
    "En las colas el primer elemento en irse es el primero de una colección.\n",
    "\n",
    "Debido a que las colas no son de un uso común en python, se ha de importar la librería para las colas."
   ]
  },
  {
   "cell_type": "code",
   "execution_count": 1,
   "id": "0d513ed1-552d-4752-bd6f-f54564c207f3",
   "metadata": {},
   "outputs": [],
   "source": [
    "from collections import deque"
   ]
  },
  {
   "cell_type": "markdown",
   "id": "0c592566-46fa-471e-b3ad-2cf2f0a60c5a",
   "metadata": {},
   "source": [
    "Creamos una cola y la almacenamos en una variable"
   ]
  },
  {
   "cell_type": "code",
   "execution_count": 2,
   "id": "b855a3cf-f88a-49dc-a0f1-65c7ae36abcb",
   "metadata": {},
   "outputs": [],
   "source": [
    "colas = deque()"
   ]
  },
  {
   "cell_type": "code",
   "execution_count": 3,
   "id": "d7c14331-3e6c-4f0f-bbed-66206f1e0aa3",
   "metadata": {},
   "outputs": [
    {
     "data": {
      "text/plain": [
       "deque([])"
      ]
     },
     "execution_count": 3,
     "metadata": {},
     "output_type": "execute_result"
    }
   ],
   "source": [
    "colas"
   ]
  },
  {
   "cell_type": "markdown",
   "id": "077f7788-ddab-48a7-8133-f9d5c4c7e06f",
   "metadata": {},
   "source": [
    "Comprobamos el tipo"
   ]
  },
  {
   "cell_type": "code",
   "execution_count": 4,
   "id": "6d13fc6b-9c0d-497a-bdcf-e459b8b6e9fa",
   "metadata": {},
   "outputs": [
    {
     "data": {
      "text/plain": [
       "collections.deque"
      ]
     },
     "execution_count": 4,
     "metadata": {},
     "output_type": "execute_result"
    }
   ],
   "source": [
    "type(colas)"
   ]
  },
  {
   "cell_type": "markdown",
   "id": "ab223b8c-4ade-4746-be0b-70799b4685ba",
   "metadata": {},
   "source": [
    "Ingresamos argumentos al constructor de la cola"
   ]
  },
  {
   "cell_type": "code",
   "execution_count": 7,
   "id": "7aceb5c1-3866-4383-b450-092a0fb139af",
   "metadata": {},
   "outputs": [],
   "source": [
    "colas = deque([\"Ana\", \"estuadiante\", \"familia\", \"genios\"])"
   ]
  },
  {
   "cell_type": "code",
   "execution_count": 8,
   "id": "597d7e2b-48d6-4969-a96c-2a52257a8d23",
   "metadata": {},
   "outputs": [
    {
     "data": {
      "text/plain": [
       "deque(['Ana', 'estuadiante', 'familia', 'genios'])"
      ]
     },
     "execution_count": 8,
     "metadata": {},
     "output_type": "execute_result"
    }
   ],
   "source": [
    "colas"
   ]
  },
  {
   "cell_type": "markdown",
   "id": "ed799c13-5800-4ff3-86b1-d6c16f8a588e",
   "metadata": {},
   "source": [
    "Podemos eliminar el último elemento de la cola con pop() tal y  como con las pilas; pero tambien pueden eliminar directamente el primer elemento con popleft(); mientras que las pilas no"
   ]
  },
  {
   "cell_type": "code",
   "execution_count": 9,
   "id": "ef62889a-7079-4811-82b2-22f6453f8fb1",
   "metadata": {},
   "outputs": [],
   "source": [
    "elemento_extraido = colas.popleft()"
   ]
  },
  {
   "cell_type": "code",
   "execution_count": 10,
   "id": "cc9e35ad-84a4-48de-a8ff-8ab66b1cf12d",
   "metadata": {},
   "outputs": [
    {
     "data": {
      "text/plain": [
       "'Ana'"
      ]
     },
     "execution_count": 10,
     "metadata": {},
     "output_type": "execute_result"
    }
   ],
   "source": [
    "elemento_extraido"
   ]
  },
  {
   "cell_type": "code",
   "execution_count": 11,
   "id": "78983a26-f1b4-48df-bce7-3b02f1e946fa",
   "metadata": {},
   "outputs": [
    {
     "data": {
      "text/plain": [
       "deque(['estuadiante', 'familia', 'genios'])"
      ]
     },
     "execution_count": 11,
     "metadata": {},
     "output_type": "execute_result"
    }
   ],
   "source": [
    "colas"
   ]
  },
  {
   "cell_type": "code",
   "execution_count": null,
   "id": "60271d47-94c7-4e5a-8922-5dc7679ce17b",
   "metadata": {},
   "outputs": [],
   "source": []
  }
 ],
 "metadata": {
  "kernelspec": {
   "display_name": "Python 3 (ipykernel)",
   "language": "python",
   "name": "python3"
  },
  "language_info": {
   "codemirror_mode": {
    "name": "ipython",
    "version": 3
   },
   "file_extension": ".py",
   "mimetype": "text/x-python",
   "name": "python",
   "nbconvert_exporter": "python",
   "pygments_lexer": "ipython3",
   "version": "3.11.1"
  }
 },
 "nbformat": 4,
 "nbformat_minor": 5
}
