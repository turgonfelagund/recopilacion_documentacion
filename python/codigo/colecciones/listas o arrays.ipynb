{
 "cells": [
  {
   "cell_type": "markdown",
   "id": "74d186a7",
   "metadata": {},
   "source": [
    "### Listas. Vid 38"
   ]
  },
  {
   "cell_type": "code",
   "execution_count": null,
   "id": "b10d2b57",
   "metadata": {},
   "outputs": [],
   "source": [
    "#Las listas pueden estar compuestas por elementos de diversos tipos\n",
    "listas = [5, 9, \"Ana\", -8, \"estudiante\"]"
   ]
  },
  {
   "cell_type": "code",
   "execution_count": null,
   "id": "ffff4ffc",
   "metadata": {},
   "outputs": [],
   "source": [
    "#Se puede acceder de varias formas a los items de las listas\n",
    "print(listas[0])\n",
    "print(listas[-1])\n",
    "print(listas[2:])   #Intervalo desde item 2 al final\n",
    "print(listas[:-1])  #Intervalo desde inicio hasta item -1 sin incluir este\n"
   ]
  },
  {
   "cell_type": "code",
   "execution_count": 2,
   "id": "e55284ba",
   "metadata": {},
   "outputs": [
    {
     "name": "stdout",
     "output_type": "stream",
     "text": [
      "[1, 2, 3, 4, 5, 6, 7, 8]\n",
      "[1, 2, 3, 4, 5, 'palabra1', 'palabra2']\n"
     ]
    }
   ],
   "source": [
    "#Se puede operar con listas\n",
    "primeraParte = [1,2,3,4,5]\n",
    "segundaParte = [6,7,8]\n",
    "\n",
    "#ejemplo 1\n",
    "terceraParte = primeraParte + segundaParte\n",
    "print(terceraParte)\n",
    "\n",
    "#ejemplo 2\n",
    "print(primeraParte + [\"palabra1\", \"palabra2\"])"
   ]
  },
  {
   "cell_type": "code",
   "execution_count": null,
   "id": "34cb9cbd",
   "metadata": {},
   "outputs": [],
   "source": [
    "#También se puede cambiar un item o varios\n",
    "\n",
    "terceraParte[1] = \"Palabra nueva\"\n",
    "\n",
    "terceraParte[1:2] = [2,\"palabraTest\"]\n",
    "\n",
    "print(terceraParte)"
   ]
  },
  {
   "cell_type": "markdown",
   "id": "46254274-a479-476f-8a08-3c90bcc701b0",
   "metadata": {},
   "source": [
    "La funcion para agregar números al final es append(). Cada vez que lo ejecute añade un nuevo item"
   ]
  },
  {
   "cell_type": "code",
   "execution_count": 3,
   "id": "cb62061f",
   "metadata": {},
   "outputs": [
    {
     "name": "stdout",
     "output_type": "stream",
     "text": [
      "[1, 2, 3, 4, 5, 6, 7, 8, 'append funciona genial']\n"
     ]
    }
   ],
   "source": [
    "#Por ejemplo, cada vez que se ejecute este bloque, la lista tendra un nuevo string\n",
    "terceraParte.append(\"append funciona\" + \" genial\")\n",
    "\n",
    "print(terceraParte)\n"
   ]
  },
  {
   "cell_type": "code",
   "execution_count": 5,
   "id": "26ab55db",
   "metadata": {},
   "outputs": [
    {
     "name": "stdout",
     "output_type": "stream",
     "text": [
      "[[1, 2, 3], [4, 5, 6], [7, 8, 9], [10, 11, 12]]\n",
      "1\n"
     ]
    }
   ],
   "source": [
    "#Se pueden anidar listas de la siguiente manera\n",
    "\n",
    "primera = [1,2,3]\n",
    "segunda = [4,5,6]\n",
    "tercera = [7,8,9]\n",
    "cuarta = [10,11,12]\n",
    "anidadas = [primera, segunda, tercera, cuarta]\n",
    "\n",
    "print(anidadas)\n",
    "\n",
    "#imprimo primer valor de la primera lista\n",
    "print(anidadas[0][0])\n"
   ]
  },
  {
   "cell_type": "markdown",
   "id": "9e6bae25-52a5-4230-9ccc-8da907f9caba",
   "metadata": {},
   "source": [
    "El metodo list() puede crear una lista"
   ]
  },
  {
   "cell_type": "code",
   "execution_count": 4,
   "id": "4005342b-bf66-4de1-b1b0-113e597db375",
   "metadata": {},
   "outputs": [
    {
     "data": {
      "text/plain": [
       "[0, 1, 2, 3, 4, 5, 6, 7, 8, 9]"
      ]
     },
     "execution_count": 4,
     "metadata": {},
     "output_type": "execute_result"
    }
   ],
   "source": [
    "lista = list(range(10));\n",
    "lista"
   ]
  },
  {
   "cell_type": "markdown",
   "id": "b322c384-83d3-4c7a-964c-0eed098b5db6",
   "metadata": {},
   "source": [
    "Tambien podemos encontrar el índice de un elemento con el método index()"
   ]
  },
  {
   "cell_type": "code",
   "execution_count": 1,
   "id": "56fbb95e-158b-4d70-bf18-5dae45b1c99b",
   "metadata": {},
   "outputs": [],
   "source": [
    "listaN = [3,6,9,10,12,1]"
   ]
  },
  {
   "cell_type": "code",
   "execution_count": 3,
   "id": "b169b546-c83d-43a3-8144-2422fd1132b0",
   "metadata": {},
   "outputs": [
    {
     "data": {
      "text/plain": [
       "2"
      ]
     },
     "execution_count": 3,
     "metadata": {},
     "output_type": "execute_result"
    }
   ],
   "source": [
    "listaN.index(9)"
   ]
  },
  {
   "cell_type": "markdown",
   "id": "b4fccbd3-bfbf-4c96-9a9c-ab1bd735c5e9",
   "metadata": {},
   "source": [
    "### List comprehension. No se encuentra en el vídeo del curso"
   ]
  },
  {
   "cell_type": "markdown",
   "id": "fe0f7704-a977-4b3d-ad0a-4b803d0de23a",
   "metadata": {},
   "source": [
    "Es una forma comprimida de realizar un bucle for para hacer append en una lista\n",
    "\n",
    "Con \"for\" habitual:\n",
    "\n",
    "lista = []\n",
    "\n",
    "for i in range(10):\n",
    "\n",
    "    lista.append((\"número\", str(i)))\n",
    "\n",
    "Con sintáxis comprimida:\n",
    "\n",
    "lista = [\"número\",i for i in range(x)]\n",
    "    "
   ]
  },
  {
   "cell_type": "code",
   "execution_count": 7,
   "id": "64f4212d-ab32-46c0-b1a9-fcedbf957655",
   "metadata": {},
   "outputs": [],
   "source": [
    "lista = []\n",
    "\n",
    "for i in range(10):\n",
    "    lista.append((\"número \" + str(i)))\n"
   ]
  },
  {
   "cell_type": "code",
   "execution_count": 8,
   "id": "4e3b9970-4461-4941-90d6-0792a4654858",
   "metadata": {},
   "outputs": [
    {
     "data": {
      "text/plain": [
       "['número 0',\n",
       " 'número 1',\n",
       " 'número 2',\n",
       " 'número 3',\n",
       " 'número 4',\n",
       " 'número 5',\n",
       " 'número 6',\n",
       " 'número 7',\n",
       " 'número 8',\n",
       " 'número 9']"
      ]
     },
     "execution_count": 8,
     "metadata": {},
     "output_type": "execute_result"
    }
   ],
   "source": [
    "lista"
   ]
  },
  {
   "cell_type": "code",
   "execution_count": 13,
   "id": "8429998c-c2b7-4cc1-a0a6-d3ad2d6dc9dd",
   "metadata": {},
   "outputs": [],
   "source": [
    "lista = [\"numero \" + str(i) for i in range(10)]"
   ]
  },
  {
   "cell_type": "code",
   "execution_count": 14,
   "id": "7fce1297-2064-45a8-8438-25d8afaf2d9a",
   "metadata": {},
   "outputs": [
    {
     "data": {
      "text/plain": [
       "['numero 0',\n",
       " 'numero 1',\n",
       " 'numero 2',\n",
       " 'numero 3',\n",
       " 'numero 4',\n",
       " 'numero 5',\n",
       " 'numero 6',\n",
       " 'numero 7',\n",
       " 'numero 8',\n",
       " 'numero 9']"
      ]
     },
     "execution_count": 14,
     "metadata": {},
     "output_type": "execute_result"
    }
   ],
   "source": [
    "lista"
   ]
  },
  {
   "cell_type": "code",
   "execution_count": null,
   "id": "0b6a51a5-10c8-45e9-8640-2a5a4de407e4",
   "metadata": {},
   "outputs": [],
   "source": []
  }
 ],
 "metadata": {
  "kernelspec": {
   "display_name": "Python 3 (ipykernel)",
   "language": "python",
   "name": "python3"
  },
  "language_info": {
   "codemirror_mode": {
    "name": "ipython",
    "version": 3
   },
   "file_extension": ".py",
   "mimetype": "text/x-python",
   "name": "python",
   "nbconvert_exporter": "python",
   "pygments_lexer": "ipython3",
   "version": "3.11.1"
  }
 },
 "nbformat": 4,
 "nbformat_minor": 5
}
