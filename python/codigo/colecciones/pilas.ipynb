{
 "cells": [
  {
   "cell_type": "markdown",
   "id": "8653a2f7-87ce-4071-bff4-9e55c837f9ae",
   "metadata": {},
   "source": [
    "### Pilas. Vid 51"
   ]
  },
  {
   "cell_type": "markdown",
   "id": "d3403165-aa65-4438-895c-a02142492593",
   "metadata": {},
   "source": [
    "Las pilas son colecciones que guardan elementos al final y estos son los primeros en eliminarse"
   ]
  },
  {
   "cell_type": "code",
   "execution_count": 1,
   "id": "1c6f530e-4550-499b-b385-6396b617fbf4",
   "metadata": {},
   "outputs": [],
   "source": [
    "apilar = [1,2,3,4];"
   ]
  },
  {
   "cell_type": "markdown",
   "id": "195ff1e9-7103-4844-9b8e-77f5b283b907",
   "metadata": {},
   "source": [
    "Añadimos items a la pila como si de una lista se tratase"
   ]
  },
  {
   "cell_type": "code",
   "execution_count": 2,
   "id": "4122082e-ca08-42db-bebc-521be05f6d79",
   "metadata": {},
   "outputs": [],
   "source": [
    "apilar.append(3)\n",
    "apilar.append(6)\n",
    "apilar.append(8)"
   ]
  },
  {
   "cell_type": "code",
   "execution_count": 3,
   "id": "795f94e9-3806-4429-9342-ec0775e15968",
   "metadata": {},
   "outputs": [
    {
     "data": {
      "text/plain": [
       "[1, 2, 3, 4, 3, 6, 8]"
      ]
     },
     "execution_count": 3,
     "metadata": {},
     "output_type": "execute_result"
    }
   ],
   "source": [
    "apilar"
   ]
  },
  {
   "cell_type": "markdown",
   "id": "c51b33ea-08d1-4b0a-86f3-08be3c41e351",
   "metadata": {},
   "source": [
    "Si queremos eliminar un item de la pila se puede usar el metodo pop(). Este borrará el último ítem de la colección"
   ]
  },
  {
   "cell_type": "code",
   "execution_count": 4,
   "id": "c07d78c6-6624-41f4-b8ef-e6fff4eefd26",
   "metadata": {},
   "outputs": [
    {
     "data": {
      "text/plain": [
       "[1, 2, 3, 4, 3, 6]"
      ]
     },
     "execution_count": 4,
     "metadata": {},
     "output_type": "execute_result"
    }
   ],
   "source": [
    "apilar.pop()\n",
    "apilar"
   ]
  },
  {
   "cell_type": "code",
   "execution_count": 5,
   "id": "49e956bd-8fa1-4e00-afda-33b308755399",
   "metadata": {},
   "outputs": [],
   "source": [
    "salvar_item = apilar.pop()"
   ]
  },
  {
   "cell_type": "code",
   "execution_count": 6,
   "id": "c852eb8b-6ec1-464a-b595-4994214c5006",
   "metadata": {},
   "outputs": [
    {
     "data": {
      "text/plain": [
       "6"
      ]
     },
     "execution_count": 6,
     "metadata": {},
     "output_type": "execute_result"
    }
   ],
   "source": [
    "salvar_item"
   ]
  }
 ],
 "metadata": {
  "kernelspec": {
   "display_name": "Python 3 (ipykernel)",
   "language": "python",
   "name": "python3"
  },
  "language_info": {
   "codemirror_mode": {
    "name": "ipython",
    "version": 3
   },
   "file_extension": ".py",
   "mimetype": "text/x-python",
   "name": "python",
   "nbconvert_exporter": "python",
   "pygments_lexer": "ipython3",
   "version": "3.11.1"
  }
 },
 "nbformat": 4,
 "nbformat_minor": 5
}
