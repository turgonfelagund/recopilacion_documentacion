{
 "cells": [
  {
   "cell_type": "markdown",
   "id": "692868f1-5677-4d9f-bdbb-c0d7fc13260d",
   "metadata": {},
   "source": [
    "### Tuplas. Vid 48"
   ]
  },
  {
   "cell_type": "markdown",
   "id": "b583ce5c-f960-4192-a096-8ea6cc62fec6",
   "metadata": {},
   "source": [
    "Las tupas son un tipo de listas inmutables, es decir, cuyos elementos\n",
    "no cambian de valor"
   ]
  },
  {
   "cell_type": "markdown",
   "id": "4533eb1f-2e02-4d1d-a17a-0c5815499edf",
   "metadata": {},
   "source": [
    "Para crear una tupla, se asignan valores entre paréntesis; o se asigna mas de un valor siempre y cuando sea mas de 1, o no seria una tupla sino una variable"
   ]
  },
  {
   "cell_type": "code",
   "execution_count": 4,
   "id": "d7f11874-714b-4a9a-bded-0fd58c4ca3ae",
   "metadata": {},
   "outputs": [
    {
     "name": "stdout",
     "output_type": "stream",
     "text": [
      "(1, 2, 3, 4)\n"
     ]
    }
   ],
   "source": [
    "# ejemplo de tupla sin parentesis\n",
    "t = 1,2,3,4;\n",
    "print(t);"
   ]
  },
  {
   "cell_type": "code",
   "execution_count": 33,
   "id": "92c4ab8a-e4c1-41ac-9854-8ab65035dca6",
   "metadata": {},
   "outputs": [
    {
     "name": "stdout",
     "output_type": "stream",
     "text": [
      "([1, 2, 3], 'estudiante', 3, 4, 1, 1)\n"
     ]
    }
   ],
   "source": [
    "# Ejemplo de tupla con paréntesis\n",
    "t = ([1,2,3],\"estudiante\",3,4, 1, 1);\n",
    "print(t);"
   ]
  },
  {
   "cell_type": "code",
   "execution_count": 8,
   "id": "02d81377-d824-4928-b687-a4abd53c97b3",
   "metadata": {},
   "outputs": [
    {
     "ename": "TypeError",
     "evalue": "'tuple' object does not support item assignment",
     "output_type": "error",
     "traceback": [
      "\u001b[1;31m---------------------------------------------------------------------------\u001b[0m",
      "\u001b[1;31mTypeError\u001b[0m                                 Traceback (most recent call last)",
      "Cell \u001b[1;32mIn[8], line 2\u001b[0m\n\u001b[0;32m      1\u001b[0m \u001b[38;5;66;03m# ejemplo de error (declarar e inicializar tupla)\u001b[39;00m\n\u001b[1;32m----> 2\u001b[0m \u001b[43mt\u001b[49m\u001b[43m[\u001b[49m\u001b[38;5;241;43m0\u001b[39;49m\u001b[43m]\u001b[49m \u001b[38;5;241m=\u001b[39m \u001b[38;5;241m4\u001b[39m\n",
      "\u001b[1;31mTypeError\u001b[0m: 'tuple' object does not support item assignment"
     ]
    }
   ],
   "source": [
    "# ejemplo de error (declarar e inicializar tupla)\n",
    "t[0] = 4"
   ]
  },
  {
   "cell_type": "markdown",
   "id": "76ac7cc8-5233-4abf-9d6b-4bd7d9e13e24",
   "metadata": {},
   "source": [
    "Las tuplas suelen usarse mas bien para trabajar y analizar con integridad los datos que contiene"
   ]
  },
  {
   "cell_type": "code",
   "execution_count": 11,
   "id": "330c46a5-0799-4140-9c94-eb643ccac192",
   "metadata": {},
   "outputs": [
    {
     "data": {
      "text/plain": [
       "4"
      ]
     },
     "execution_count": 11,
     "metadata": {},
     "output_type": "execute_result"
    }
   ],
   "source": [
    "len(t)"
   ]
  },
  {
   "cell_type": "code",
   "execution_count": 12,
   "id": "07bd689c-1f7e-43b7-9761-ef8efaf22318",
   "metadata": {},
   "outputs": [
    {
     "data": {
      "text/plain": [
       "3"
      ]
     },
     "execution_count": 13,
     "metadata": {},
     "output_type": "execute_result"
    }
   ],
   "source": [
    "len(t[0])"
   ]
  },
  {
   "cell_type": "code",
   "execution_count": 29,
   "id": "380caae2-00b8-417e-802e-2f1c66f37e1c",
   "metadata": {},
   "outputs": [
    {
     "data": {
      "text/plain": [
       "1"
      ]
     },
     "execution_count": 29,
     "metadata": {},
     "output_type": "execute_result"
    }
   ],
   "source": [
    "t.index(\"estudiante\")"
   ]
  },
  {
   "cell_type": "code",
   "execution_count": 34,
   "id": "eff4568d-c57d-4890-a1f9-42d539ee8d59",
   "metadata": {},
   "outputs": [
    {
     "data": {
      "text/plain": [
       "2"
      ]
     },
     "execution_count": 34,
     "metadata": {},
     "output_type": "execute_result"
    }
   ],
   "source": [
    "t.count(1)"
   ]
  },
  {
   "cell_type": "markdown",
   "id": "a3ca7435-5f9f-4911-989f-115aea902101",
   "metadata": {},
   "source": [
    "Append() no se puede usar con tuplas debido a que son inmutables"
   ]
  },
  {
   "cell_type": "code",
   "execution_count": 35,
   "id": "902bf4a3-9d2a-4f6c-8db2-36c061123e27",
   "metadata": {},
   "outputs": [
    {
     "ename": "AttributeError",
     "evalue": "'tuple' object has no attribute 'append'",
     "output_type": "error",
     "traceback": [
      "\u001b[1;31m---------------------------------------------------------------------------\u001b[0m",
      "\u001b[1;31mAttributeError\u001b[0m                            Traceback (most recent call last)",
      "Cell \u001b[1;32mIn[35], line 1\u001b[0m\n\u001b[1;32m----> 1\u001b[0m \u001b[43mt\u001b[49m\u001b[38;5;241;43m.\u001b[39;49m\u001b[43mappend\u001b[49m(\u001b[38;5;124m'\u001b[39m\u001b[38;5;124mbla\u001b[39m\u001b[38;5;124m'\u001b[39m)\n",
      "\u001b[1;31mAttributeError\u001b[0m: 'tuple' object has no attribute 'append'"
     ]
    }
   ],
   "source": [
    "t.append('bla')"
   ]
  }
 ],
 "metadata": {
  "kernelspec": {
   "display_name": "Python 3 (ipykernel)",
   "language": "python",
   "name": "python3"
  },
  "language_info": {
   "codemirror_mode": {
    "name": "ipython",
    "version": 3
   },
   "file_extension": ".py",
   "mimetype": "text/x-python",
   "name": "python",
   "nbconvert_exporter": "python",
   "pygments_lexer": "ipython3",
   "version": "3.11.1"
  }
 },
 "nbformat": 4,
 "nbformat_minor": 5
}
