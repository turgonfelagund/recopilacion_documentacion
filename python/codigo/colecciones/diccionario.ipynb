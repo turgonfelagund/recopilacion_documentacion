{
 "cells": [
  {
   "cell_type": "markdown",
   "id": "7c7c5bed-c785-4b23-998b-9bdb5c5b75b9",
   "metadata": {},
   "source": [
    "Diccionarios. Vid 50"
   ]
  },
  {
   "cell_type": "markdown",
   "id": "b66e789b-6631-4ca6-840d-34b0e6883232",
   "metadata": {},
   "source": [
    "Son colecciones que asocian clave y valor"
   ]
  },
  {
   "cell_type": "code",
   "execution_count": 3,
   "id": "c2d92e0c-1ed4-47b5-9f31-c79b8f931c08",
   "metadata": {},
   "outputs": [],
   "source": [
    "diccionario = {\"Ana\" : \"Hernández\", \"Marcos\": \"Gómez\", \"num\":9};"
   ]
  },
  {
   "cell_type": "code",
   "execution_count": 2,
   "id": "4e1616f6-9749-4889-af98-60d57c2720e4",
   "metadata": {},
   "outputs": [
    {
     "data": {
      "text/plain": [
       "dict"
      ]
     },
     "execution_count": 2,
     "metadata": {},
     "output_type": "execute_result"
    }
   ],
   "source": [
    "type(diccionario)"
   ]
  },
  {
   "cell_type": "code",
   "execution_count": 4,
   "id": "b0d6a36f-4cdd-4533-9ad4-6791b0c8b80d",
   "metadata": {},
   "outputs": [
    {
     "data": {
      "text/plain": [
       "9"
      ]
     },
     "execution_count": 4,
     "metadata": {},
     "output_type": "execute_result"
    }
   ],
   "source": [
    "diccionario[\"num\"]"
   ]
  },
  {
   "cell_type": "code",
   "execution_count": 5,
   "id": "8e79008c-a6c5-41ac-9e25-349832c9b866",
   "metadata": {},
   "outputs": [
    {
     "data": {
      "text/plain": [
       "'Hernández'"
      ]
     },
     "execution_count": 5,
     "metadata": {},
     "output_type": "execute_result"
    }
   ],
   "source": [
    "diccionario[\"Ana\"]"
   ]
  },
  {
   "cell_type": "markdown",
   "id": "37ceb3c1-c63f-4e9a-ab5d-117bd31a8f91",
   "metadata": {},
   "source": [
    "Para borrar un elemento del diccionario se puede usar del()"
   ]
  },
  {
   "cell_type": "code",
   "execution_count": 6,
   "id": "1f2027d0-72fb-4544-93ed-da5630688eb6",
   "metadata": {},
   "outputs": [
    {
     "data": {
      "text/plain": [
       "{'Ana': 'Hernández', 'num': 9}"
      ]
     },
     "execution_count": 6,
     "metadata": {},
     "output_type": "execute_result"
    }
   ],
   "source": [
    "del(diccionario[\"Marcos\"])\n",
    "diccionario"
   ]
  },
  {
   "cell_type": "markdown",
   "id": "1f690284-bcfe-4f4d-bc7b-5de5f793968e",
   "metadata": {},
   "source": [
    "También se puede cambiar un valor mediante clave"
   ]
  },
  {
   "cell_type": "code",
   "execution_count": 13,
   "id": "5400c78a-d57a-43d3-b5df-9bad0b503e58",
   "metadata": {},
   "outputs": [],
   "source": [
    "edad = {\"Marcos\": 30, \"Ana\": 29}"
   ]
  },
  {
   "cell_type": "code",
   "execution_count": 8,
   "id": "66625476-e857-46ce-8e53-1632e9950d98",
   "metadata": {},
   "outputs": [
    {
     "data": {
      "text/plain": [
       "{'Marcos': 31, 'Ana': 29}"
      ]
     },
     "execution_count": 8,
     "metadata": {},
     "output_type": "execute_result"
    }
   ],
   "source": [
    "edad[\"Marcos\"]+=1\n",
    "edad"
   ]
  },
  {
   "cell_type": "code",
   "execution_count": 9,
   "id": "968735d4-ef4b-4a53-adbc-0a58055c9eee",
   "metadata": {},
   "outputs": [
    {
     "data": {
      "text/plain": [
       "60"
      ]
     },
     "execution_count": 9,
     "metadata": {},
     "output_type": "execute_result"
    }
   ],
   "source": [
    "edad[\"Marcos\"] + edad['Ana']"
   ]
  },
  {
   "cell_type": "markdown",
   "id": "6d8af047-9d66-44ef-9ca7-67b023f4529c",
   "metadata": {},
   "source": [
    "También se puede recorrer el diccionario con un bucle"
   ]
  },
  {
   "cell_type": "code",
   "execution_count": 15,
   "id": "8476dc15-ec0f-4a14-86d8-5cb329d5b6ed",
   "metadata": {},
   "outputs": [
    {
     "name": "stdout",
     "output_type": "stream",
     "text": [
      "Marcos\n",
      "Ana\n"
     ]
    }
   ],
   "source": [
    "# Imprime clave\n",
    "for edades in edad :\n",
    "    print(edades);"
   ]
  },
  {
   "cell_type": "code",
   "execution_count": 19,
   "id": "f84152bb-37c4-4f04-8ecf-3cb9dd00e702",
   "metadata": {},
   "outputs": [
    {
     "name": "stdout",
     "output_type": "stream",
     "text": [
      "30\n",
      "29\n"
     ]
    }
   ],
   "source": [
    "# Imprime valor\n",
    "\n",
    "for edades in edad :\n",
    "    print(edad[edades])"
   ]
  },
  {
   "cell_type": "code",
   "execution_count": 20,
   "id": "05c311b1-98cd-4ed7-9ec3-19d93f3d27e2",
   "metadata": {},
   "outputs": [
    {
     "name": "stdout",
     "output_type": "stream",
     "text": [
      "Marcos 30\n",
      "Ana 29\n"
     ]
    }
   ],
   "source": [
    "# Imprime ambas\n",
    "\n",
    "for edades in edad :\n",
    "    print(edades, edad[edades])"
   ]
  }
 ],
 "metadata": {
  "kernelspec": {
   "display_name": "Python 3 (ipykernel)",
   "language": "python",
   "name": "python3"
  },
  "language_info": {
   "codemirror_mode": {
    "name": "ipython",
    "version": 3
   },
   "file_extension": ".py",
   "mimetype": "text/x-python",
   "name": "python",
   "nbconvert_exporter": "python",
   "pygments_lexer": "ipython3",
   "version": "3.11.1"
  }
 },
 "nbformat": 4,
 "nbformat_minor": 5
}
