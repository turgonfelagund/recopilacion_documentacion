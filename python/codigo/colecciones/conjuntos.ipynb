{
 "cells": [
  {
   "cell_type": "markdown",
   "id": "d95b6d9c-117c-484c-be25-962065feb261",
   "metadata": {},
   "source": [
    "### Conjuntos. Vid 49"
   ]
  },
  {
   "cell_type": "markdown",
   "id": "d66a56ed-4f8f-4523-b9ae-2331f6a8b9bb",
   "metadata": {},
   "source": [
    "Los conjuntos son colecciones de datos desordenadas. Sin embargo, los conjuntos se ordenan internamente en base a ciertos criterios"
   ]
  },
  {
   "cell_type": "code",
   "execution_count": 6,
   "id": "c441c698-b170-4e69-8566-767826e29509",
   "metadata": {},
   "outputs": [],
   "source": [
    "con = {5,4,3,8};"
   ]
  },
  {
   "cell_type": "code",
   "execution_count": 13,
   "id": "51efab13-599a-45a9-9965-c96d3c832e2e",
   "metadata": {},
   "outputs": [
    {
     "data": {
      "text/plain": [
       "{2, 3, 4, 5, 8, 9}"
      ]
     },
     "execution_count": 13,
     "metadata": {},
     "output_type": "execute_result"
    }
   ],
   "source": [
    "# Como puede verse se ordenan\n",
    "con"
   ]
  },
  {
   "cell_type": "code",
   "execution_count": 11,
   "id": "ff1d456a-3881-448d-9131-80f09c27a342",
   "metadata": {},
   "outputs": [
    {
     "name": "stdout",
     "output_type": "stream",
     "text": [
      "{2, 3, 4, 5, 8}\n"
     ]
    }
   ],
   "source": [
    "# Incluso nuevos elementos añadidos\n",
    "con.add(2);\n",
    "print(con);"
   ]
  },
  {
   "cell_type": "code",
   "execution_count": 12,
   "id": "a67834ef-904d-4954-9b78-b2deab204a7b",
   "metadata": {},
   "outputs": [
    {
     "name": "stdout",
     "output_type": "stream",
     "text": [
      "{2, 3, 4, 5, 8, 9}\n"
     ]
    }
   ],
   "source": [
    "con.add(9);\n",
    "print(con);"
   ]
  },
  {
   "cell_type": "markdown",
   "id": "69191aca-36ef-455a-bda5-003fdbc52928",
   "metadata": {},
   "source": [
    "Tambien funciona con caracteres"
   ]
  },
  {
   "cell_type": "code",
   "execution_count": 21,
   "id": "df467af1-8bf5-4053-ac41-0b3421840c99",
   "metadata": {},
   "outputs": [],
   "source": [
    "# Se añaden caracteres\n",
    "con.add('H');\n",
    "con.add('A');\n",
    "con.add('B')\n",
    "con.add('Y')"
   ]
  },
  {
   "cell_type": "code",
   "execution_count": 24,
   "id": "d5e34fe1-1c12-4dca-9ae8-49ea3324128b",
   "metadata": {},
   "outputs": [
    {
     "name": "stdout",
     "output_type": "stream",
     "text": [
      "{2, 3, 4, 5, 8, 9, 'H', 'Y', 'B', 'A'}\n"
     ]
    },
    {
     "data": {
      "text/plain": [
       "{2, 3, 4, 5, 8, 9, 'A', 'B', 'H', 'Y'}"
      ]
     },
     "execution_count": 24,
     "metadata": {},
     "output_type": "execute_result"
    }
   ],
   "source": [
    "#Poner atencion a la diferencia entre la impresion y la salida\n",
    "print(con);      # Muestra los datos\n",
    "con              # Ordena los datos"
   ]
  },
  {
   "cell_type": "markdown",
   "id": "84c9155b-8919-4956-b7c2-9c61b1b5870f",
   "metadata": {},
   "source": [
    "Para crear un conjunto vacío, tambien se puede usar la funcion set()"
   ]
  },
  {
   "cell_type": "code",
   "execution_count": 26,
   "id": "d47604df-0f2f-481f-8d15-a339f5c4b648",
   "metadata": {},
   "outputs": [],
   "source": [
    "conjunto = set();"
   ]
  },
  {
   "cell_type": "markdown",
   "id": "59548f96-99ae-4675-83bb-0740be3ca7d8",
   "metadata": {},
   "source": [
    "Además se pueden busca elementos dentro de un conjunto o set con \"in\""
   ]
  },
  {
   "cell_type": "code",
   "execution_count": 28,
   "id": "81cb29d1-b1cd-473a-a93f-a54cb25f5252",
   "metadata": {},
   "outputs": [
    {
     "data": {
      "text/plain": [
       "True"
      ]
     },
     "execution_count": 28,
     "metadata": {},
     "output_type": "execute_result"
    }
   ],
   "source": [
    "coleccion = {\"Ana\", \"Marta\", \"Juan\"};\n",
    "\n",
    "\"Ana\" in coleccion"
   ]
  },
  {
   "cell_type": "markdown",
   "id": "63899e75-d2f0-4af9-ba63-02694b30ee75",
   "metadata": {},
   "source": [
    "Una colección no permite elementos repetidos"
   ]
  },
  {
   "cell_type": "code",
   "execution_count": 31,
   "id": "e0441ded-e932-4510-9c16-d3b32940eca2",
   "metadata": {},
   "outputs": [
    {
     "data": {
      "text/plain": [
       "1"
      ]
     },
     "execution_count": 31,
     "metadata": {},
     "output_type": "execute_result"
    }
   ],
   "source": [
    "repetido = {\"repetido\", \"repetido\", \"repetido\"}\n",
    "len(repetido)"
   ]
  },
  {
   "cell_type": "markdown",
   "id": "5130a9d1-8a5f-46d1-8c55-619375ce3387",
   "metadata": {},
   "source": [
    "Para transforma una lista en un conjunto vacío, podemos usar set()"
   ]
  },
  {
   "cell_type": "code",
   "execution_count": 40,
   "id": "11a2b868-c462-4c87-954b-a9f261326773",
   "metadata": {},
   "outputs": [],
   "source": [
    "lista = [1,1,2,2,3,4,5,5, \"patata\", \"Patata\", \"patata\"];\n",
    "conjunto = set(lista);"
   ]
  },
  {
   "cell_type": "code",
   "execution_count": 41,
   "id": "0db75ad0-21ec-4599-ac22-cc603bfe94d2",
   "metadata": {},
   "outputs": [
    {
     "name": "stdout",
     "output_type": "stream",
     "text": [
      "[1, 1, 2, 2, 3, 4, 5, 5, 'patata', 'Patata', 'patata']\n",
      "{1, 2, 3, 4, 5, 'Patata', 'patata'}\n"
     ]
    }
   ],
   "source": [
    "print(lista);\n",
    "print(conjunto);"
   ]
  },
  {
   "cell_type": "markdown",
   "id": "d4302886-34e1-444a-ac43-9ce0b63a78dd",
   "metadata": {},
   "source": [
    "Otra cosa intersante que se puede hacer con set(), es eliminar los caraceres repetidos en una cadena al poder procesar esta"
   ]
  },
  {
   "cell_type": "code",
   "execution_count": 42,
   "id": "3c89aeb9-25f8-4f02-aa01-0a1e7205ab6e",
   "metadata": {},
   "outputs": [],
   "source": [
    "cadena = \"Hola mundoooooooooo\";"
   ]
  },
  {
   "cell_type": "code",
   "execution_count": 45,
   "id": "a739ecc1-1d08-46c3-be65-9e98cb100b7f",
   "metadata": {},
   "outputs": [
    {
     "data": {
      "text/plain": [
       "{' ', 'H', 'a', 'd', 'l', 'm', 'n', 'o', 'u'}"
      ]
     },
     "execution_count": 45,
     "metadata": {},
     "output_type": "execute_result"
    }
   ],
   "source": [
    "set(cadena)"
   ]
  },
  {
   "cell_type": "markdown",
   "id": "e4c8b5cd-e9cb-4835-9ec6-4df0f02dee97",
   "metadata": {},
   "source": [
    "Existen muchos otros métodos para los conjuntos, como pop(), discard(), remove() o clear()"
   ]
  }
 ],
 "metadata": {
  "kernelspec": {
   "display_name": "Python 3 (ipykernel)",
   "language": "python",
   "name": "python3"
  },
  "language_info": {
   "codemirror_mode": {
    "name": "ipython",
    "version": 3
   },
   "file_extension": ".py",
   "mimetype": "text/x-python",
   "name": "python",
   "nbconvert_exporter": "python",
   "pygments_lexer": "ipython3",
   "version": "3.11.1"
  }
 },
 "nbformat": 4,
 "nbformat_minor": 5
}
