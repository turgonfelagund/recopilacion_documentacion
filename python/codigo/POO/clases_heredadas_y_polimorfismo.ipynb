{
 "cells": [
  {
   "cell_type": "markdown",
   "id": "d41d190c-06f2-49c8-8e06-a13332643b6c",
   "metadata": {},
   "source": [
    "### Clases heredadas y polimorfimo. Vid 71"
   ]
  },
  {
   "cell_type": "code",
   "execution_count": 15,
   "id": "9121fddf-5121-469a-bf6a-29d224a1c55f",
   "metadata": {},
   "outputs": [],
   "source": [
    "class Fabrica:\n",
    "    \n",
    "    def __init__ (self, marca, nombre, precio, descripcion):\n",
    "        self.marca = marca\n",
    "        self.precio = precio\n",
    "        self.nombre = nombre\n",
    "        self.descripcion = descripcion\n",
    "        \n",
    "    def __str__ (self):\n",
    "        return \"\"\"\\\n",
    "MARCA\\t\\t{}\n",
    "NOMBRE\\t\\t{}\n",
    "PRECIO\\t\\t{}\n",
    "DESCRIPCION\\t{}\"\"\".format(self.marca, self.nombre, self.precio, self.descripcion)\n",
    "    \n",
    "class Auto(Fabrica):\n",
    "    pass\n",
    "\n",
    "class Deportivo(Fabrica):\n",
    "    ruedas = \"\";\n",
    "    distribuidor = \"\";\n",
    "    \n",
    "    def __str__(self):\n",
    "        return \"\"\"\\\n",
    "MARCA\\t\\t{}\n",
    "NOMBRE\\t\\t{}\n",
    "PRECIO\\t\\t{}\n",
    "DESCRIPCION\\t\\{}\n",
    "RUEDAS\\t\\t{}\n",
    "DISTRIBUIDOR\\t{}\"\"\".format(self.marca, self.nombre, self.precio, self.descripcion, self.ruedas, self.distribuidor)\n",
    "    \n",
    "class Accesorios(Fabrica):\n",
    "    autor = \"\"\n",
    "    fabricante = \"\"\n",
    "    \n",
    "    def __str__(self):\n",
    "        return \"\"\"\\\n",
    "MARCA\\t\\t{}\n",
    "NOMBRE\\t\\t{}\n",
    "PRECIO\\t\\t{}\n",
    "DESCRIPCION\\t\\{}\n",
    "AUTOR\\t\\t{}\n",
    "FABRICANTE\\t{}\"\"\".format(self.marca, self.nombre, self.precio, self.descripcion, self.autor, self.fabricante)"
   ]
  },
  {
   "cell_type": "code",
   "execution_count": 16,
   "id": "62d51a41-50f3-4b78-9bd2-d29dcdd95308",
   "metadata": {},
   "outputs": [],
   "source": [
    "a = Auto(\"Ford\", \"Ranger\", 100000, 'camioneta')\n",
    "\n",
    "deportivo = Deportivo(\"Volkswagen\", \"Vento\", 54000, \"El mejor\")\n",
    "deportivo.ruedas = 3\n",
    "deportivo.distribuidor = \"Tu autito\"\n",
    "\n",
    "accesorios = Accesorios(\"Fiat\", \"Luces de neon\", 10000, \"Iluminan mejor\")\n",
    "accesorios.autor = \"Vos\"\n",
    "accesorios.fabricante = \"Yo\""
   ]
  },
  {
   "cell_type": "code",
   "execution_count": 17,
   "id": "f5af58a2-0676-4809-b3d6-1bc0fd303123",
   "metadata": {},
   "outputs": [],
   "source": [
    "fabrica = [accesorios, deportivo]"
   ]
  },
  {
   "cell_type": "code",
   "execution_count": 18,
   "id": "8e6f96e0-0161-4b16-b554-f32c5d54476a",
   "metadata": {},
   "outputs": [],
   "source": [
    "fabrica.append(a)"
   ]
  },
  {
   "cell_type": "code",
   "execution_count": 19,
   "id": "e64be35d-772e-404f-8d6c-eee532f12563",
   "metadata": {},
   "outputs": [
    {
     "data": {
      "text/plain": [
       "[<__main__.Accesorios at 0x13789a92910>,\n",
       " <__main__.Deportivo at 0x13789a91590>,\n",
       " <__main__.Auto at 0x13789a90890>]"
      ]
     },
     "execution_count": 19,
     "metadata": {},
     "output_type": "execute_result"
    }
   ],
   "source": [
    "fabrica"
   ]
  },
  {
   "cell_type": "markdown",
   "id": "a6bb3641-d7b1-4829-badf-81a313094fcd",
   "metadata": {},
   "source": [
    "Aquí apreciaremos como el objeto \"a\" de la clase Auto utiliza el método \"__str__\" de su clase padre, mientras que los objetos de la clases Deportivo y Accesorio utilizan un método \"__str__\" sobreescrito"
   ]
  },
  {
   "cell_type": "code",
   "execution_count": 20,
   "id": "ed27a805-8ca6-4405-9983-8a9399b63264",
   "metadata": {},
   "outputs": [
    {
     "name": "stdout",
     "output_type": "stream",
     "text": [
      "MARCA\t\tFiat\n",
      "NOMBRE\t\tLuces de neon\n",
      "PRECIO\t\t10000\n",
      "DESCRIPCION\t\\Iluminan mejor\n",
      "AUTOR\t\tVos\n",
      "FABRICANTE\tYo \n",
      "\n",
      "MARCA\t\tVolkswagen\n",
      "NOMBRE\t\tVento\n",
      "PRECIO\t\t54000\n",
      "DESCRIPCION\t\\El mejor\n",
      "RUEDAS\t\t3\n",
      "DISTRIBUIDOR\tTu autito \n",
      "\n",
      "MARCA\t\tFord\n",
      "NOMBRE\t\tRanger\n",
      "PRECIO\t\t100000\n",
      "DESCRIPCION\tcamioneta \n",
      "\n"
     ]
    }
   ],
   "source": [
    "for x in fabrica:\n",
    "    print(x, \"\\n\")"
   ]
  },
  {
   "cell_type": "markdown",
   "id": "e0ee5e83-9ed6-4293-9398-5502e6246c9d",
   "metadata": {},
   "source": [
    "¿Qué pasa si quiero recorrer los elementos de la lista e imprimir un atributo que solo existe en un tipo de instancia?\n",
    "\n",
    "Se provocará un error. Para evitarlo, una solución es usar el método \"__isinstance()__\".\n",
    "\n",
    "isinstance() se utiliza para saber si una instancia pertenece a una determinada clase. En caso de ser así, devuelve __True__"
   ]
  },
  {
   "cell_type": "code",
   "execution_count": 22,
   "id": "aaa8db00-0aa7-4880-a6be-973bbad11856",
   "metadata": {},
   "outputs": [
    {
     "name": "stdout",
     "output_type": "stream",
     "text": [
      "marca: Fiat  nombre: Luces de neon  fabricante: Yo\n",
      "Volkswagen Vento 3\n",
      "Ford Ranger\n"
     ]
    }
   ],
   "source": [
    "for x in fabrica:\n",
    "    if(isinstance(x, Auto)):\n",
    "        print(x.marca, x.nombre)\n",
    "    elif(isinstance(x, Deportivo)):\n",
    "        print(x.marca, x.nombre, x.ruedas)\n",
    "    elif(isinstance(x, Accesorios)):\n",
    "        print(\"marca:\", x.marca, \" nombre:\", x.nombre, \" fabricante:\", x.fabricante)"
   ]
  },
  {
   "cell_type": "markdown",
   "id": "1459eec8-144c-4279-9387-f4de2ee9744e",
   "metadata": {},
   "source": [
    "Si queremos hacer una copia de un objeto para no alterar el original, podemos usar una librería llamada __copy__"
   ]
  },
  {
   "cell_type": "code",
   "execution_count": 26,
   "id": "7a15b3b4-eebd-4c2e-ab60-cc7c658ebe44",
   "metadata": {},
   "outputs": [],
   "source": [
    "def Descuento_accesorio(t, descuento):\n",
    "    \n",
    "    t.precio = t.precio - (t.precio/100 * descuento)"
   ]
  },
  {
   "cell_type": "code",
   "execution_count": 27,
   "id": "6d184272-0311-4468-9f94-a51ac5e4a889",
   "metadata": {},
   "outputs": [],
   "source": [
    "Descuento_accesorio(accesorios, 10)"
   ]
  },
  {
   "cell_type": "code",
   "execution_count": 28,
   "id": "38689195-944f-4361-aaa0-a4cdb905ea97",
   "metadata": {},
   "outputs": [
    {
     "data": {
      "text/plain": [
       "9000.0"
      ]
     },
     "execution_count": 28,
     "metadata": {},
     "output_type": "execute_result"
    }
   ],
   "source": [
    "accesorios.precio"
   ]
  },
  {
   "cell_type": "code",
   "execution_count": 37,
   "id": "94d44845-5b91-4633-add1-83731ccc4c33",
   "metadata": {},
   "outputs": [],
   "source": [
    "import copy\n",
    "#importar con nombre\n",
    "#import copy as copiador\n",
    "\n",
    "copia_deportivo = p.copy(accesorios)"
   ]
  },
  {
   "cell_type": "code",
   "execution_count": 38,
   "id": "28311fec-e2cd-4834-b457-f3237b7027f4",
   "metadata": {},
   "outputs": [
    {
     "name": "stdout",
     "output_type": "stream",
     "text": [
      "MARCA\t\tFiat\n",
      "NOMBRE\t\tLuces de neon\n",
      "PRECIO\t\t9000.0\n",
      "DESCRIPCION\t\\Iluminan mejor\n",
      "AUTOR\t\tVos\n",
      "FABRICANTE\tYo\n"
     ]
    }
   ],
   "source": [
    "print(copia_deportivo)"
   ]
  }
 ],
 "metadata": {
  "kernelspec": {
   "display_name": "Python 3 (ipykernel)",
   "language": "python",
   "name": "python3"
  },
  "language_info": {
   "codemirror_mode": {
    "name": "ipython",
    "version": 3
   },
   "file_extension": ".py",
   "mimetype": "text/x-python",
   "name": "python",
   "nbconvert_exporter": "python",
   "pygments_lexer": "ipython3",
   "version": "3.11.1"
  }
 },
 "nbformat": 4,
 "nbformat_minor": 5
}
