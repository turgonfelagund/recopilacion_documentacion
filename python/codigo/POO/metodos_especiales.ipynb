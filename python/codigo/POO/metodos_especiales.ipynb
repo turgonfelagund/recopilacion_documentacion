{
 "cells": [
  {
   "cell_type": "markdown",
   "id": "a6600550-0fd8-4840-b791-3395591cf893",
   "metadata": {},
   "source": [
    "### Métodos especiales. Vid 67"
   ]
  },
  {
   "cell_type": "markdown",
   "id": "e8953fde-e1ba-4913-9d6d-4886cd256b0c",
   "metadata": {},
   "source": [
    "Además de \"__init__\" hay muchos otros métodos especiales. \n",
    "\n",
    "También son conocidos como __métodos mágicos__ y pueden soreescribirse\n",
    "\n",
    "El método \"__del__\" elimina una instancia si se crea otra igual (mismos valores en los atributos) referenciada en la misma variable. Este se ejecuta con el constructor al igual que init"
   ]
  },
  {
   "cell_type": "code",
   "execution_count": 1,
   "id": "18229991-1ca2-4009-a88b-cc97b9a5d116",
   "metadata": {},
   "outputs": [],
   "source": [
    "class Fabrica:\n",
    "    def __init__(self, tiempo, nombre, ruedas):\n",
    "        self.tiempo = tiempo\n",
    "        self.nombre = nombre\n",
    "        self.ruedas = ruedas\n",
    "        print(\"Se creo el auto\", self.nombre)\n",
    "        \n",
    "    def __del__(self):\n",
    "        print(\"Se eliminó el auto\", self.nombre)"
   ]
  },
  {
   "cell_type": "markdown",
   "id": "2acb5f77-3f3f-47f7-8ce8-f852703b1450",
   "metadata": {},
   "source": [
    "Al instanciar por 2ª vez el objeto sin cambiar atributos, se eliminará en memoria la 1ª instancia. Aquí podremos observarlo mediante el argumento nombre"
   ]
  },
  {
   "cell_type": "code",
   "execution_count": 3,
   "id": "17a149ab-af2d-4d3d-a391-d6f95ea68ca3",
   "metadata": {},
   "outputs": [
    {
     "name": "stdout",
     "output_type": "stream",
     "text": [
      "Se creo el auto Estudiantes\n",
      "Se eliminó el auto Estudiantes\n"
     ]
    }
   ],
   "source": [
    "a = Fabrica(10, \"Estudiantes\", 4)"
   ]
  },
  {
   "cell_type": "code",
   "execution_count": 9,
   "id": "0eedbe42-fd89-451b-97c7-d67000a4a9b0",
   "metadata": {},
   "outputs": [
    {
     "name": "stdout",
     "output_type": "stream",
     "text": [
      "Se creo el auto Marcos\n",
      "Se eliminó el auto Marcos\n"
     ]
    }
   ],
   "source": [
    "b = Fabrica(10, \"Marcos\", 4)"
   ]
  },
  {
   "cell_type": "markdown",
   "id": "df71d846-0017-4c9c-a7ec-f7979dc6b67c",
   "metadata": {},
   "source": [
    "Otro método interesante es \"__str__\". De esta forma, cada vez que se imprime una instancia, se mostrará la información indicada en este método\n",
    "\n",
    "Si no se usa, al llamar la instancia, se mostraría su espacio en memoria"
   ]
  },
  {
   "cell_type": "code",
   "execution_count": 7,
   "id": "e788196e-5cb3-41bd-92a4-7ea76a3e94b7",
   "metadata": {},
   "outputs": [],
   "source": [
    "class Fabrica:\n",
    "    def __init__(self, tiempo, nombre, ruedas):\n",
    "        self.tiempo = tiempo\n",
    "        self.nombre = nombre\n",
    "        self.ruedas = ruedas\n",
    "        print(\"Se creo el auto\", self.nombre)\n",
    "        \n",
    "    def __del__(self):\n",
    "        print(\"Se eliminó el auto\", self.nombre)\n",
    "        \n",
    "    def __str__(self):\n",
    "        return \"{} se fabricó con éxito, en el tiempo {} y tiene {} ruedas\".format(self.nombre, self.tiempo, self.ruedas)\n"
   ]
  },
  {
   "cell_type": "code",
   "execution_count": 8,
   "id": "43abe711-c2a4-4ab5-bd6b-5ab605776023",
   "metadata": {},
   "outputs": [
    {
     "name": "stdout",
     "output_type": "stream",
     "text": [
      "Se creo el auto Renault\n"
     ]
    }
   ],
   "source": [
    "a = Fabrica(10, \"Renault\", 4)"
   ]
  },
  {
   "cell_type": "code",
   "execution_count": 9,
   "id": "444983bf-fbcb-4c60-bd2a-bc4722a2eda4",
   "metadata": {},
   "outputs": [
    {
     "name": "stdout",
     "output_type": "stream",
     "text": [
      "Renault se fabricó con éxito, en el tiempo 10 y tiene 4 ruedas\n"
     ]
    }
   ],
   "source": [
    "print(a)"
   ]
  },
  {
   "cell_type": "markdown",
   "id": "03498224-0101-4bc5-b640-3209ff9cfceb",
   "metadata": {},
   "source": [
    "El método \"__len__\" también utilizarse en un objeto de la siguiente manera"
   ]
  },
  {
   "cell_type": "code",
   "execution_count": 17,
   "id": "960e525b-6b44-453b-964c-2ac043b5b434",
   "metadata": {},
   "outputs": [],
   "source": [
    "class Fabrica:\n",
    "    def __init__(self, tiempo, nombre, ruedas):\n",
    "        self.tiempo = tiempo\n",
    "        self.nombre = nombre\n",
    "        self.ruedas = ruedas\n",
    "        print(\"Se creo el auto\", self.nombre)\n",
    "        \n",
    "    def __del__(self):\n",
    "        print(\"Se eliminó el auto\", self.nombre)\n",
    "        \n",
    "    def __str__(self):\n",
    "        return \"{} se fabricó con éxito, en el tiempo {} y tiene {} ruedas\".format(self.nombre, self.tiempo, self.ruedas)\n",
    "    \n",
    "    def __len__(self):\n",
    "        return self.tiempo"
   ]
  },
  {
   "cell_type": "code",
   "execution_count": 18,
   "id": "573e9d30-0b70-4db2-907e-d781e73fa46c",
   "metadata": {},
   "outputs": [
    {
     "name": "stdout",
     "output_type": "stream",
     "text": [
      "Se creo el auto Renault\n"
     ]
    }
   ],
   "source": [
    "a = Fabrica(10, \"Renault\", 4)"
   ]
  },
  {
   "cell_type": "code",
   "execution_count": 19,
   "id": "80b61ae4-b47e-4faa-a3aa-402415d9f96b",
   "metadata": {},
   "outputs": [
    {
     "data": {
      "text/plain": [
       "10"
      ]
     },
     "execution_count": 19,
     "metadata": {},
     "output_type": "execute_result"
    }
   ],
   "source": [
    "len(a)"
   ]
  }
 ],
 "metadata": {
  "kernelspec": {
   "display_name": "Python 3 (ipykernel)",
   "language": "python",
   "name": "python3"
  },
  "language_info": {
   "codemirror_mode": {
    "name": "ipython",
    "version": 3
   },
   "file_extension": ".py",
   "mimetype": "text/x-python",
   "name": "python",
   "nbconvert_exporter": "python",
   "pygments_lexer": "ipython3",
   "version": "3.11.1"
  }
 },
 "nbformat": 4,
 "nbformat_minor": 5
}
