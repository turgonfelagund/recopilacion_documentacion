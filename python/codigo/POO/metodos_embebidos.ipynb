{
 "cells": [
  {
   "cell_type": "markdown",
   "id": "f1d5cfd9-ae91-425d-99d1-b2bc8ec68d65",
   "metadata": {},
   "source": [
    "### Métodos embebidos. Vid 68"
   ]
  },
  {
   "cell_type": "code",
   "execution_count": 1,
   "id": "64e8d577-4bf6-4cd0-a889-f62ea501cd4d",
   "metadata": {},
   "outputs": [],
   "source": [
    "class Fabrica:\n",
    "    def __init__(self, tiempo, nombre, ruedas):\n",
    "        self.tiempo = tiempo\n",
    "        self.nombre = nombre\n",
    "        self.ruedas = ruedas\n",
    "        print(\"Se ha creado el auto\", self.nombre)\n",
    "    \n",
    "    def __str__(self):\n",
    "        return \"{}({})\".format(self.nombre, self.tiempo)"
   ]
  },
  {
   "cell_type": "code",
   "execution_count": 47,
   "id": "a968cb8a-08d6-4f21-bde7-f3dd499cadda",
   "metadata": {},
   "outputs": [],
   "source": [
    "class Listado:\n",
    "    \n",
    "    autos = []\n",
    "    \n",
    "    def __init__(self, autos=[]):\n",
    "        self.autos = autos\n",
    "        \n",
    "    def fabricar(self, x):\n",
    "        self.autos.append(x)\n",
    "        \n",
    "    def visualizar(self):\n",
    "        for x in self.autos:\n",
    "            print(x)"
   ]
  },
  {
   "cell_type": "code",
   "execution_count": 48,
   "id": "2e3f4dfe-5d00-41dd-b82c-d513adb31f1a",
   "metadata": {},
   "outputs": [
    {
     "name": "stdout",
     "output_type": "stream",
     "text": [
      "Se ha creado el auto Renault\n"
     ]
    }
   ],
   "source": [
    "a = Fabrica(10, \"Renault\", 4)"
   ]
  },
  {
   "cell_type": "code",
   "execution_count": 49,
   "id": "6c92f412-e3a9-4aa3-89d2-1fa514cabfee",
   "metadata": {},
   "outputs": [],
   "source": [
    "l = Listado([a])"
   ]
  },
  {
   "cell_type": "code",
   "execution_count": 50,
   "id": "e100ad33-996d-43ef-a797-1d49635aeca7",
   "metadata": {},
   "outputs": [
    {
     "name": "stdout",
     "output_type": "stream",
     "text": [
      "Renault(10)\n"
     ]
    }
   ],
   "source": [
    "l.visualizar()"
   ]
  },
  {
   "cell_type": "code",
   "execution_count": 51,
   "id": "f8cb5e8c-f7a8-4475-aaf1-0ba9c0fac02e",
   "metadata": {},
   "outputs": [
    {
     "name": "stdout",
     "output_type": "stream",
     "text": [
      "Se ha creado el auto Honda\n"
     ]
    }
   ],
   "source": [
    "l.fabricar(Fabrica(15, \"Honda\", 2))"
   ]
  },
  {
   "cell_type": "code",
   "execution_count": 52,
   "id": "7a44d0dd-aad5-496a-95c5-fb1ef27d6393",
   "metadata": {},
   "outputs": [
    {
     "name": "stdout",
     "output_type": "stream",
     "text": [
      "Renault(10)\n",
      "Honda(15)\n"
     ]
    }
   ],
   "source": [
    "l.visualizar()"
   ]
  }
 ],
 "metadata": {
  "kernelspec": {
   "display_name": "Python 3 (ipykernel)",
   "language": "python",
   "name": "python3"
  },
  "language_info": {
   "codemirror_mode": {
    "name": "ipython",
    "version": 3
   },
   "file_extension": ".py",
   "mimetype": "text/x-python",
   "name": "python",
   "nbconvert_exporter": "python",
   "pygments_lexer": "ipython3",
   "version": "3.11.1"
  }
 },
 "nbformat": 4,
 "nbformat_minor": 5
}
