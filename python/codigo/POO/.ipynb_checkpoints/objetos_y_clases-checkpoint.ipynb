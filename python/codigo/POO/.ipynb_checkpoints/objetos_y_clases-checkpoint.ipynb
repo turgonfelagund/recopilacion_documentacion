{
 "cells": [
  {
   "cell_type": "markdown",
   "id": "fdd1b1a3-53c9-49b8-b143-dc8f63e4b68e",
   "metadata": {},
   "source": [
    "### Objetos y clases. Vid 64"
   ]
  },
  {
   "cell_type": "markdown",
   "id": "9de08678-ff9a-4417-998c-854e082bd098",
   "metadata": {},
   "source": [
    "Una clase es una estructura que define las características y funcionalidades asociadas a un objeto, aunque también puede crear funcionalidades que no dependen de un objeto (métodos estáticos)\n",
    "\n",
    "Los objetos son entidades que agrupan estados y funcionalidades"
   ]
  },
  {
   "cell_type": "code",
   "execution_count": 11,
   "id": "de0b27cd-aa5d-467d-87eb-332423271dc6",
   "metadata": {},
   "outputs": [],
   "source": [
    "# \"pass\" se utiliza para crear una clase vacía\n",
    "class Estudiante:\n",
    "    pass"
   ]
  },
  {
   "cell_type": "code",
   "execution_count": 5,
   "id": "ca488d4e-74d9-40af-8f6f-9603f0ae091a",
   "metadata": {},
   "outputs": [],
   "source": [
    "# Instanciamos un objeto y lo almacenamos en una variable\n",
    "Estudiantes = Estudiante()"
   ]
  },
  {
   "cell_type": "code",
   "execution_count": 8,
   "id": "f3fb89ab-e51e-4c53-b4d8-8441566880b2",
   "metadata": {},
   "outputs": [
    {
     "data": {
      "text/plain": [
       "__main__.Estudiante"
      ]
     },
     "execution_count": 8,
     "metadata": {},
     "output_type": "execute_result"
    }
   ],
   "source": [
    "# si es un objeto, debe devolver \"__main__.Estudiante\"\n",
    "type(Estudiantes)"
   ]
  },
  {
   "cell_type": "markdown",
   "id": "013c8abe-3f74-483d-85b2-32997139d063",
   "metadata": {},
   "source": [
    "Otro ejemplo con pass"
   ]
  },
  {
   "cell_type": "code",
   "execution_count": 12,
   "id": "ccecb63b-9f6b-4281-a8b9-2d625fa97262",
   "metadata": {},
   "outputs": [
    {
     "data": {
      "text/plain": [
       "function"
      ]
     },
     "execution_count": 12,
     "metadata": {},
     "output_type": "execute_result"
    }
   ],
   "source": [
    "def Estudiante():\n",
    "    pass\n",
    "type(Estudiante)"
   ]
  }
 ],
 "metadata": {
  "kernelspec": {
   "display_name": "Python 3 (ipykernel)",
   "language": "python",
   "name": "python3"
  },
  "language_info": {
   "codemirror_mode": {
    "name": "ipython",
    "version": 3
   },
   "file_extension": ".py",
   "mimetype": "text/x-python",
   "name": "python",
   "nbconvert_exporter": "python",
   "pygments_lexer": "ipython3",
   "version": "3.11.1"
  }
 },
 "nbformat": 4,
 "nbformat_minor": 5
}
