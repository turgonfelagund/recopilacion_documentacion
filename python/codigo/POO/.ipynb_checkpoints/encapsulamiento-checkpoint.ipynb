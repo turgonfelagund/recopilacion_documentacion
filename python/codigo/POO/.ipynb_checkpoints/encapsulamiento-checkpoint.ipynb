{
 "cells": [
  {
   "cell_type": "markdown",
   "id": "0677c90e-b180-4c71-a2ef-c4033765052c",
   "metadata": {},
   "source": [
    "### Encapsulamiento. Vid 69"
   ]
  },
  {
   "cell_type": "markdown",
   "id": "b2006d21-4e48-4614-8534-0d49c1da7092",
   "metadata": {},
   "source": [
    "Python no tiene encapsulamiento como tal, aunque se puede simular\n",
    "\n",
    "Utilizando doble guión bajo antes del nombre de una varaible o atributo, conseguimos hacerlo privado."
   ]
  },
  {
   "cell_type": "code",
   "execution_count": 74,
   "id": "f833a34a-e791-4d1f-b5e9-4a040312bbe9",
   "metadata": {},
   "outputs": [],
   "source": [
    "class Encapsulamiento:\n",
    "    __privado_atri = \"Soy un atributo inaccesible desde fuera de la clase\"\n",
    "    \n",
    "    def __privado_met(self):\n",
    "        print(\"Soy un método inaccesible desde fuera de la clase\")"
   ]
  },
  {
   "cell_type": "code",
   "execution_count": 75,
   "id": "fd9df9a2-59d6-4e35-9d81-d4f8cfc0b3c9",
   "metadata": {},
   "outputs": [],
   "source": [
    "a = Encapsulamiento()"
   ]
  },
  {
   "cell_type": "code",
   "execution_count": 76,
   "id": "8d1803f6-cdcd-4afc-b779-b324aaabe2c9",
   "metadata": {},
   "outputs": [
    {
     "ename": "AttributeError",
     "evalue": "'Encapsulamiento' object has no attribute '_privado_atri'",
     "output_type": "error",
     "traceback": [
      "\u001b[1;31m---------------------------------------------------------------------------\u001b[0m",
      "\u001b[1;31mAttributeError\u001b[0m                            Traceback (most recent call last)",
      "Cell \u001b[1;32mIn[76], line 1\u001b[0m\n\u001b[1;32m----> 1\u001b[0m \u001b[43ma\u001b[49m\u001b[38;5;241;43m.\u001b[39;49m\u001b[43m_privado_atri\u001b[49m\n",
      "\u001b[1;31mAttributeError\u001b[0m: 'Encapsulamiento' object has no attribute '_privado_atri'"
     ]
    }
   ],
   "source": [
    "a._privado_atri"
   ]
  },
  {
   "cell_type": "code",
   "execution_count": 78,
   "id": "e3bda175-90c9-485c-864a-ec03cbcc2a36",
   "metadata": {},
   "outputs": [
    {
     "ename": "AttributeError",
     "evalue": "'Encapsulamiento' object has no attribute '__privado_met'",
     "output_type": "error",
     "traceback": [
      "\u001b[1;31m---------------------------------------------------------------------------\u001b[0m",
      "\u001b[1;31mAttributeError\u001b[0m                            Traceback (most recent call last)",
      "Cell \u001b[1;32mIn[78], line 1\u001b[0m\n\u001b[1;32m----> 1\u001b[0m \u001b[43ma\u001b[49m\u001b[38;5;241;43m.\u001b[39;49m\u001b[43m__privado_met\u001b[49m()\n",
      "\u001b[1;31mAttributeError\u001b[0m: 'Encapsulamiento' object has no attribute '__privado_met'"
     ]
    }
   ],
   "source": [
    "a.__privado_met()"
   ]
  },
  {
   "cell_type": "markdown",
   "id": "fc509786-7b64-4844-876d-932cd99c4a2f",
   "metadata": {},
   "source": [
    "En caso de querer acceder a una variable privada, se puede creando un método específico para ello en la clase"
   ]
  },
  {
   "cell_type": "code",
   "execution_count": 88,
   "id": "ce6dc13b-e5e4-46dc-9579-9e68b93e8da4",
   "metadata": {},
   "outputs": [],
   "source": [
    "class Encapsulamiento:\n",
    "    __privado_atri = \"Soy un atributo inaccesible desde fuera de la clase\"\n",
    "    \n",
    "    def __privado_met(self):\n",
    "        print(\"Soy un método inaccesible desde fuera de la clase\")\n",
    "        \n",
    "    def publico_atri(self):\n",
    "        return self.__privado_atri\n",
    "    \n",
    "    def publico_met(self):\n",
    "        return self.__privado_met()"
   ]
  },
  {
   "cell_type": "code",
   "execution_count": 89,
   "id": "04092a42-e978-4c8e-a70a-b69f2773771e",
   "metadata": {},
   "outputs": [],
   "source": [
    "b = Encapsulamiento()"
   ]
  },
  {
   "cell_type": "code",
   "execution_count": 90,
   "id": "d8dd9b92-a76d-4f6a-a584-426216020ba9",
   "metadata": {},
   "outputs": [
    {
     "data": {
      "text/plain": [
       "'Soy un atributo inaccesible desde fuera de la clase'"
      ]
     },
     "execution_count": 90,
     "metadata": {},
     "output_type": "execute_result"
    }
   ],
   "source": [
    "b.publico_atri()"
   ]
  },
  {
   "cell_type": "code",
   "execution_count": 91,
   "id": "02610c90-aaea-434a-bf8f-3f2a7e2d157e",
   "metadata": {},
   "outputs": [
    {
     "name": "stdout",
     "output_type": "stream",
     "text": [
      "Soy un método inaccesible desde fuera de la clase\n"
     ]
    }
   ],
   "source": [
    "b.publico_met()"
   ]
  },
  {
   "cell_type": "markdown",
   "id": "72c5a057-6220-445d-aea8-59c33b8f6988",
   "metadata": {},
   "source": [
    "IMPORTANTE\n",
    "\n",
    "En realidad no hay variable ni método del todo privados y siempre se puede acceder a ellos mediante el nombre de la clase de la siguiente manera"
   ]
  },
  {
   "cell_type": "code",
   "execution_count": 27,
   "id": "ab52d220-8023-4b29-a22c-02d266009f42",
   "metadata": {},
   "outputs": [],
   "source": [
    "c = Encapsulamiento()"
   ]
  },
  {
   "cell_type": "code",
   "execution_count": 86,
   "id": "cdb1e15b-8c37-4f34-869b-1edcc3d6cc94",
   "metadata": {},
   "outputs": [
    {
     "ename": "AttributeError",
     "evalue": "'Encapsulamiento' object has no attribute '__privado_atri'",
     "output_type": "error",
     "traceback": [
      "\u001b[1;31m---------------------------------------------------------------------------\u001b[0m",
      "\u001b[1;31mAttributeError\u001b[0m                            Traceback (most recent call last)",
      "Cell \u001b[1;32mIn[86], line 1\u001b[0m\n\u001b[1;32m----> 1\u001b[0m \u001b[43mc\u001b[49m\u001b[38;5;241;43m.\u001b[39;49m\u001b[43m__privado_atri\u001b[49m()\n",
      "\u001b[1;31mAttributeError\u001b[0m: 'Encapsulamiento' object has no attribute '__privado_atri'"
     ]
    }
   ],
   "source": [
    "c.__privado_atri()"
   ]
  },
  {
   "cell_type": "code",
   "execution_count": 82,
   "id": "7623590a-830e-40de-b345-05c72ce351cc",
   "metadata": {},
   "outputs": [
    {
     "data": {
      "text/plain": [
       "'Soy un atributo inaccesible desde fuera de la clase'"
      ]
     },
     "execution_count": 82,
     "metadata": {},
     "output_type": "execute_result"
    }
   ],
   "source": [
    "c._Encapsulamiento__privado_atri"
   ]
  }
 ],
 "metadata": {
  "kernelspec": {
   "display_name": "Python 3 (ipykernel)",
   "language": "python",
   "name": "python3"
  },
  "language_info": {
   "codemirror_mode": {
    "name": "ipython",
    "version": 3
   },
   "file_extension": ".py",
   "mimetype": "text/x-python",
   "name": "python",
   "nbconvert_exporter": "python",
   "pygments_lexer": "ipython3",
   "version": "3.11.1"
  }
 },
 "nbformat": 4,
 "nbformat_minor": 5
}
