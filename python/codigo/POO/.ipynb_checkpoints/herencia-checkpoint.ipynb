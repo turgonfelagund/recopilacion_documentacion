{
 "cells": [
  {
   "cell_type": "markdown",
   "id": "84068f48-d663-4c7f-a6f5-dd11428f46f0",
   "metadata": {},
   "source": [
    "### Herencia. Vid 70"
   ]
  },
  {
   "cell_type": "markdown",
   "id": "1dd1b2e2-4e12-4357-9896-ab7d142889f9",
   "metadata": {},
   "source": [
    "La herencia de clases en python se realiza pasando como argumento la clase clase padre o superclase a la clase hija o subclase"
   ]
  },
  {
   "cell_type": "code",
   "execution_count": 30,
   "id": "582e844c-cc93-497a-91e1-af9701423eca",
   "metadata": {},
   "outputs": [],
   "source": [
    "# Superclase o clase padre\n",
    "class Fabrica:\n",
    "    def __init__(self, marca, modelo, precio, descripcion):\n",
    "        self.marca = marca\n",
    "        self.modelo = modelo\n",
    "        self.precio = precio\n",
    "        self.descripcion = descripcion\n",
    "    \n",
    "    def __str__(self):\n",
    "        return \"\"\"\\\n",
    "MARCA\\t\\t{}\n",
    "MODELO\\t\\t{}\n",
    "PRECIO\\t\\t{}\n",
    "DESCRIPCIÓN\\t{}\n",
    "        \"\"\".format(self.marca, self.modelo, self.precio, self.descripcion)"
   ]
  },
  {
   "cell_type": "code",
   "execution_count": 31,
   "id": "5e4cb917-effd-4b1a-99b4-341b27ea29ea",
   "metadata": {},
   "outputs": [],
   "source": [
    "# Subclase o clase hija\n",
    "class Auto(Fabrica):\n",
    "    pass\n",
    "a = Auto(\"Ford\", \"mondeo\", 1200.00, \"Turismo de 4 plazas\")"
   ]
  },
  {
   "cell_type": "code",
   "execution_count": 32,
   "id": "eafdc868-823a-4835-8bae-731bf223080e",
   "metadata": {},
   "outputs": [
    {
     "name": "stdout",
     "output_type": "stream",
     "text": [
      "MARCA\t\tFord\n",
      "MODELO\t\tmondeo\n",
      "PRECIO\t\t1200.0\n",
      "DESCRIPCIÓN\tTurismo de 4 plazas\n",
      "        \n"
     ]
    }
   ],
   "source": [
    "print(a)"
   ]
  },
  {
   "cell_type": "markdown",
   "id": "b3512b50-3350-4169-8fc9-81e1db69af7d",
   "metadata": {},
   "source": [
    "Otra subclase hija que añade atributos"
   ]
  },
  {
   "cell_type": "code",
   "execution_count": 39,
   "id": "4de9fa55-c1fe-4a9a-9489-ad4ba1901a6a",
   "metadata": {},
   "outputs": [],
   "source": [
    "class Deportivo(Fabrica):\n",
    "    \n",
    "    ruedas = \"\"\n",
    "    distribuidor = \"\"\n",
    "    \n",
    "    def __str__(self):\n",
    "        return \"\"\"\\\n",
    "MARCA\\t\\t{}\n",
    "MODELO\\t\\t{}\n",
    "PRECIO\\t\\t{}\n",
    "DESCRIPCIÓN\\t{}\n",
    "RUEDAS\\t\\t{}\n",
    "DISTRIBUIDOR\\t{}\n",
    "        \"\"\".format(self.marca, self.modelo, self.precio, self.descripcion, self.ruedas, self.distribuidor)"
   ]
  },
  {
   "cell_type": "code",
   "execution_count": 40,
   "id": "f91106f1-fb30-4696-acfd-f60e33b57516",
   "metadata": {},
   "outputs": [],
   "source": [
    "b = Deportivo(\"Toyota\", \"Corola\", 4200, \"El mejor\")\n",
    "b.ruedas = 4\n",
    "b.distribuidor = \"Oliver Benji\""
   ]
  },
  {
   "cell_type": "code",
   "execution_count": 41,
   "id": "cf13230a-b864-4ee8-b863-99c9eb311f68",
   "metadata": {},
   "outputs": [
    {
     "name": "stdout",
     "output_type": "stream",
     "text": [
      "MARCA\t\tToyota\n",
      "MODELO\t\tCorola\n",
      "PRECIO\t\t4200\n",
      "DESCRIPCIÓN\tEl mejor\n",
      "RUEDAS\t\t4\n",
      "DISTRIBUIDOR\tOliver Benji\n",
      "        \n"
     ]
    }
   ],
   "source": [
    "print(b)"
   ]
  }
 ],
 "metadata": {
  "kernelspec": {
   "display_name": "Python 3 (ipykernel)",
   "language": "python",
   "name": "python3"
  },
  "language_info": {
   "codemirror_mode": {
    "name": "ipython",
    "version": 3
   },
   "file_extension": ".py",
   "mimetype": "text/x-python",
   "name": "python",
   "nbconvert_exporter": "python",
   "pygments_lexer": "ipython3",
   "version": "3.11.1"
  }
 },
 "nbformat": 4,
 "nbformat_minor": 5
}
