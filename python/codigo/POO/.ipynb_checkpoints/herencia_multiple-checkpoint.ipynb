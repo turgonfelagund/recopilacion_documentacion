{
 "cells": [
  {
   "cell_type": "markdown",
   "id": "c057368c-5bc9-46d1-a710-97f287e33336",
   "metadata": {},
   "source": [
    "### Herencia múltiple. Vid 72"
   ]
  },
  {
   "cell_type": "markdown",
   "id": "6ce7c87c-94a0-4591-8aed-af6a87cab0af",
   "metadata": {},
   "source": [
    "La herencia múltiple permite que una clase herede de varias clases"
   ]
  },
  {
   "cell_type": "code",
   "execution_count": 1,
   "id": "a6c961d4-1563-4cc3-a929-50b181e40fb1",
   "metadata": {},
   "outputs": [],
   "source": [
    "class Primera:\n",
    "    def __init__(self):\n",
    "        print(\"Yo soy la primera clase\")\n",
    "        \n",
    "    def primera_met:\n",
    "        print(\"Soy un método heredado de Primera\")\n",
    "\n",
    "class Segunda:\n",
    "    def __init__(self):\n",
    "        print(\"Yo soy la segunda clase\")\n",
    "    \n",
    "    def segunda_met:\n",
    "        print(\"Soy un método heredado de Segunda\")\n",
    "    \n",
    "class Tercera(primera, segunda):\n",
    "        pass"
   ]
  },
  {
   "cell_type": "markdown",
   "id": "46c37cf5-8a82-4ad5-bf10-07f1781c0aef",
   "metadata": {},
   "source": [
    "Si hay conflicto entre dos superclases, python da prioridad a las que se encuentran más a la izquierda al pasarlas como argumento\n",
    "\n",
    "Por ejemplo el método init() se encuentra en las clases \"Primera\" y \"Segunda\". Debido a que la primera pasada a la clase \"Tercera\" es \"Primera\", será su método init() el utilizado por \"Tercera\""
   ]
  },
  {
   "cell_type": "code",
   "execution_count": 2,
   "id": "0fe657d4-c74d-4f5f-a0d6-2e4d13d8042c",
   "metadata": {},
   "outputs": [
    {
     "name": "stdout",
     "output_type": "stream",
     "text": [
      "Yo soy la primera clase\n"
     ]
    }
   ],
   "source": [
    "herencia_multiple = tercera()"
   ]
  },
  {
   "cell_type": "markdown",
   "id": "474bb53a-e7d9-4899-91b3-48420cc44fb8",
   "metadata": {},
   "source": [
    "Como se verá a continuación, la clase hija podrá utilizar los métodos de las clases padre"
   ]
  },
  {
   "cell_type": "code",
   "execution_count": null,
   "id": "2baec884-3e7f-4882-a64a-7eb5d9fb3287",
   "metadata": {},
   "outputs": [],
   "source": []
  }
 ],
 "metadata": {
  "kernelspec": {
   "display_name": "Python 3 (ipykernel)",
   "language": "python",
   "name": "python3"
  },
  "language_info": {
   "codemirror_mode": {
    "name": "ipython",
    "version": 3
   },
   "file_extension": ".py",
   "mimetype": "text/x-python",
   "name": "python",
   "nbconvert_exporter": "python",
   "pygments_lexer": "ipython3",
   "version": "3.11.1"
  }
 },
 "nbformat": 4,
 "nbformat_minor": 5
}
