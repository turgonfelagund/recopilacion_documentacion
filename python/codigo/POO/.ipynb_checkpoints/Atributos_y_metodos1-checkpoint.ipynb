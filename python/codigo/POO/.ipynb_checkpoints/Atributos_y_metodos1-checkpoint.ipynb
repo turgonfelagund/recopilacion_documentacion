{
 "cells": [
  {
   "cell_type": "markdown",
   "id": "884217a6-3760-418e-9725-78e494dcd49a",
   "metadata": {},
   "source": [
    "### Atributos y métodos de una clase. Vid 65"
   ]
  },
  {
   "cell_type": "markdown",
   "id": "32f071e3-5ca6-49b7-aee5-977e42a21603",
   "metadata": {},
   "source": [
    "Los atributos son referencias de variables de un objeto, luego de una clase.\n",
    "Aunque no todas las varaibles de una clase han de ser atributos\n",
    "\n",
    "Los métodos son las funciones de una clase"
   ]
  },
  {
   "cell_type": "markdown",
   "id": "ce6be122-3971-409a-810a-7408db1a59b0",
   "metadata": {},
   "source": [
    "Hay varias formas de definir atributos"
   ]
  },
  {
   "cell_type": "markdown",
   "id": "e1d35a21-0ca0-4962-b5f9-eb309ff32238",
   "metadata": {},
   "source": [
    "Se pueden definir atributos y métodos sobre instancias ya creadas"
   ]
  },
  {
   "cell_type": "code",
   "execution_count": 1,
   "id": "dc42c167-9f8e-4bf9-917f-fa4fc52eb954",
   "metadata": {},
   "outputs": [],
   "source": [
    "class Auto:\n",
    "    pass"
   ]
  },
  {
   "cell_type": "code",
   "execution_count": 2,
   "id": "d0e1f615-a716-44d6-bae4-09764507ae88",
   "metadata": {},
   "outputs": [],
   "source": [
    "concesionario = Auto()"
   ]
  },
  {
   "cell_type": "code",
   "execution_count": 3,
   "id": "46b42e1b-45a8-4803-9849-8efced32d67e",
   "metadata": {},
   "outputs": [],
   "source": [
    "concesionario.color = \"Rojo\""
   ]
  },
  {
   "cell_type": "code",
   "execution_count": 4,
   "id": "237785df-4b2f-47c5-86ee-ef6fa7b9d170",
   "metadata": {},
   "outputs": [],
   "source": [
    "concesionario.puertas = \"Muchas\""
   ]
  },
  {
   "cell_type": "code",
   "execution_count": 11,
   "id": "dea4306a-db5a-4aa4-b1b1-af29745d0b01",
   "metadata": {},
   "outputs": [],
   "source": [
    "# Se usa una funcion lambda\n",
    "concesionario.pitar = lambda a:print(f\"La bocina suena como {a}!\")"
   ]
  },
  {
   "cell_type": "code",
   "execution_count": 5,
   "id": "fb0c5560-bbaa-44a2-b4cd-f85399752215",
   "metadata": {},
   "outputs": [
    {
     "name": "stdout",
     "output_type": "stream",
     "text": [
      "Mi coche es de color: Rojo\n"
     ]
    }
   ],
   "source": [
    "print(\"Mi coche es de color:\", concesionario.color)"
   ]
  },
  {
   "cell_type": "code",
   "execution_count": 12,
   "id": "b798a79e-055b-4148-954c-8f681c037c2a",
   "metadata": {},
   "outputs": [
    {
     "name": "stdout",
     "output_type": "stream",
     "text": [
      "estoy pitando iaaaa!\n"
     ]
    }
   ],
   "source": [
    "concesionario.pitar(\"iaaa\")"
   ]
  },
  {
   "cell_type": "markdown",
   "id": "c1e635e6-31af-44ad-ab03-7147b79b561c",
   "metadata": {},
   "source": [
    "Definiendo atributos desde la clase"
   ]
  },
  {
   "cell_type": "code",
   "execution_count": 6,
   "id": "571c41d7-1997-4c2e-93c3-d276eafc77a5",
   "metadata": {},
   "outputs": [],
   "source": [
    "class Auto:\n",
    "    Rojo = False"
   ]
  },
  {
   "cell_type": "code",
   "execution_count": 7,
   "id": "71bfbbbb-f07d-4526-aca5-733002db53ef",
   "metadata": {},
   "outputs": [],
   "source": [
    "c = Auto()"
   ]
  },
  {
   "cell_type": "code",
   "execution_count": 8,
   "id": "d9fbaada-1bf1-4169-aade-856bd3b55f5c",
   "metadata": {},
   "outputs": [
    {
     "data": {
      "text/plain": [
       "False"
      ]
     },
     "execution_count": 8,
     "metadata": {},
     "output_type": "execute_result"
    }
   ],
   "source": [
    "c.Rojo"
   ]
  },
  {
   "cell_type": "markdown",
   "id": "b3192506-ee59-4085-a2ff-d2541c24d91b",
   "metadata": {},
   "source": [
    "Con el método \"__init__\" ejecutamos lo que este método contenga cada vez que se instancia un objeto. \n",
    "\n",
    "\"__init__\" requiere al menos un argumento (si tenemos varios será el primero) que haga referencia a la clase; como lo haría \"this\".\n",
    "\n",
    "Por convenio se utiliza \"self\" para este argumento, pero puede utilizar cualquier nombre.\n"
   ]
  },
  {
   "cell_type": "code",
   "execution_count": 61,
   "id": "d599188f-f28f-4a8e-92cd-47712f7cbb3e",
   "metadata": {},
   "outputs": [],
   "source": [
    "# Ejempo con self\n",
    "class Auto:\n",
    "    Rojo = False\n",
    "    marca = \"nada\"\n",
    "    modelo = None\n",
    "\n",
    "    def __init__(self, marca, modelo):\n",
    "        print(\"Se ha creado una instancia de Auto\\n\")\n",
    "        self.marca = marca\n",
    "        self.modelo = modelo\n",
    "        print(f\"Su marca es: {self.marca}\")\n",
    "        print(f\"Su modelo es: {self.modelo}\")"
   ]
  },
  {
   "cell_type": "code",
   "execution_count": 62,
   "id": "6387c244-0673-4ef3-bd7f-3ec2d1a3e68d",
   "metadata": {},
   "outputs": [
    {
     "name": "stdout",
     "output_type": "stream",
     "text": [
      "Se ha creado una instancia de Auto\n",
      "\n",
      "Su marca es: Toyota\n",
      "Su modelo es: Corola\n"
     ]
    }
   ],
   "source": [
    "a = Auto(\"Toyota\", \"Corola\")"
   ]
  },
  {
   "cell_type": "code",
   "execution_count": 63,
   "id": "800a88b4-64bd-4fce-9682-99fc5d8a91c1",
   "metadata": {},
   "outputs": [],
   "source": [
    "# Ejempo con otro nombre\n",
    "class Auto:\n",
    "    Rojo = False\n",
    "    marca = \"nada\"\n",
    "    modelo = None\n",
    "\n",
    "    def __init__(auto, marca, modelo):\n",
    "        print(\"Se ha creado una instancia de Auto\\n\")\n",
    "        auto.marca = marca\n",
    "        auto.modelo = modelo\n",
    "        print(f\"Su marca es: {auto.marca}\")\n",
    "        print(f\"Su modelo es: {auto.modelo}\")"
   ]
  },
  {
   "cell_type": "code",
   "execution_count": 64,
   "id": "1afe1790-b9ec-4d8c-a7a0-905b0f76e9a6",
   "metadata": {},
   "outputs": [
    {
     "name": "stdout",
     "output_type": "stream",
     "text": [
      "Se ha creado una instancia de Auto\n",
      "\n",
      "Su marca es: nimbus\n",
      "Su modelo es: 2001\n"
     ]
    }
   ],
   "source": [
    "b = Auto(\"nimbus\", \"2001\")"
   ]
  },
  {
   "cell_type": "code",
   "execution_count": null,
   "id": "f8de98ae-1237-42cb-b424-04568a32b4d0",
   "metadata": {},
   "outputs": [],
   "source": []
  }
 ],
 "metadata": {
  "kernelspec": {
   "display_name": "Python 3 (ipykernel)",
   "language": "python",
   "name": "python3"
  },
  "language_info": {
   "codemirror_mode": {
    "name": "ipython",
    "version": 3
   },
   "file_extension": ".py",
   "mimetype": "text/x-python",
   "name": "python",
   "nbconvert_exporter": "python",
   "pygments_lexer": "ipython3",
   "version": "3.11.1"
  }
 },
 "nbformat": 4,
 "nbformat_minor": 5
}
