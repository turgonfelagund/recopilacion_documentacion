{
 "cells": [
  {
   "cell_type": "markdown",
   "id": "9693d7ee-2073-4d44-9eb8-a09ca43b37ac",
   "metadata": {},
   "source": [
    "### Manejo de errores. Vid 62"
   ]
  },
  {
   "cell_type": "markdown",
   "id": "c0161f8f-4899-4756-b393-e2e982763fc4",
   "metadata": {},
   "source": [
    "Si se produce algún error podemos manejar el mismo para devolver una respuesta personalizada mediante la estructura de try-except"
   ]
  },
  {
   "cell_type": "code",
   "execution_count": 2,
   "id": "80f472ff-09ad-4121-b502-135ffea5b708",
   "metadata": {},
   "outputs": [
    {
     "name": "stdin",
     "output_type": "stream",
     "text": [
      "Introduce algo: a\n"
     ]
    },
    {
     "name": "stdout",
     "output_type": "stream",
     "text": [
      "No intrduciste un número\n"
     ]
    }
   ],
   "source": [
    "try:\n",
    "    variable = float(input(\"Introduce algo:\"))\n",
    "    a = 2\n",
    "    print(f\"resultado: {a * variable}\")\n",
    "except:\n",
    "    print(\"No introduciste un número\")"
   ]
  },
  {
   "cell_type": "code",
   "execution_count": 10,
   "id": "b69ac451-c503-4608-8c07-14c18fec7e40",
   "metadata": {},
   "outputs": [
    {
     "name": "stdin",
     "output_type": "stream",
     "text": [
      "Introduce algo: a\n"
     ]
    },
    {
     "name": "stdout",
     "output_type": "stream",
     "text": [
      "No introduciste un número, te voy a dar otra oportunidad\n"
     ]
    },
    {
     "name": "stdin",
     "output_type": "stream",
     "text": [
      "Introduce algo: a\n"
     ]
    },
    {
     "name": "stdout",
     "output_type": "stream",
     "text": [
      "No introduciste un número, te voy a dar otra oportunidad\n"
     ]
    },
    {
     "name": "stdin",
     "output_type": "stream",
     "text": [
      "Introduce algo: 2\n"
     ]
    },
    {
     "name": "stdout",
     "output_type": "stream",
     "text": [
      "resultado: 4.0\n"
     ]
    }
   ],
   "source": [
    "while(True):\n",
    "    try:\n",
    "        variable = float(input(\"Introduce algo:\"))\n",
    "        a = 2\n",
    "        print(f\"resultado: {a * variable}\")\n",
    "        break\n",
    "    except:\n",
    "        print(\"No introduciste un número, te voy a dar otra oportunidad\")"
   ]
  },
  {
   "cell_type": "markdown",
   "id": "54e2b8c1-09fb-45ab-b961-651a897913d3",
   "metadata": {},
   "source": [
    "Una pequeña novedad. Observar else."
   ]
  },
  {
   "cell_type": "code",
   "execution_count": 15,
   "id": "d3ce8e2e-f800-4ad2-a799-7900204039ec",
   "metadata": {},
   "outputs": [
    {
     "name": "stdin",
     "output_type": "stream",
     "text": [
      "Introduce algo: 2\n"
     ]
    },
    {
     "name": "stdout",
     "output_type": "stream",
     "text": [
      "resultado: 4.0\n",
      "Iniciaste sesión amigo\n"
     ]
    }
   ],
   "source": [
    "while(True):\n",
    "    try:\n",
    "        variable = float(input(\"Introduce algo:\"))\n",
    "        a = 2\n",
    "        print(f\"resultado: {a * variable}\")\n",
    "    except:\n",
    "        print(\"No introduciste un número, te voy a dar otra oportunidad\")\n",
    "# Else se ejecuta si no se ejecuta except\n",
    "    else:\n",
    "        print(\"Iniciaste sesión amigo\")\n",
    "        break"
   ]
  },
  {
   "cell_type": "markdown",
   "id": "785afd17-dda0-4235-983e-04b2484efe75",
   "metadata": {},
   "source": [
    "Como se vió en el archivo de bucles while, con la claúsula finally, ejecutamos una fragmento de código siempre que se complete un ciclo del bucle"
   ]
  },
  {
   "cell_type": "code",
   "execution_count": 7,
   "id": "f5da1ecd-2128-400d-8a2e-c3540943d1b2",
   "metadata": {},
   "outputs": [
    {
     "name": "stdin",
     "output_type": "stream",
     "text": [
      "Introduce algo: a\n"
     ]
    },
    {
     "name": "stdout",
     "output_type": "stream",
     "text": [
      "No introduciste un número, te voy a dar otra oportunidad\n",
      "hola mundo\n"
     ]
    },
    {
     "name": "stdin",
     "output_type": "stream",
     "text": [
      "Introduce algo: a\n"
     ]
    },
    {
     "name": "stdout",
     "output_type": "stream",
     "text": [
      "No introduciste un número, te voy a dar otra oportunidad\n",
      "hola mundo\n"
     ]
    },
    {
     "name": "stdin",
     "output_type": "stream",
     "text": [
      "Introduce algo: 1\n"
     ]
    },
    {
     "name": "stdout",
     "output_type": "stream",
     "text": [
      "resultado: 2.0\n",
      "Iniciaste sesión amigo\n",
      "hola mundo\n"
     ]
    }
   ],
   "source": [
    "while(True):\n",
    "    try:\n",
    "        variable = float(input(\"Introduce algo:\"))\n",
    "        a = 2\n",
    "        print(f\"resultado: {a * variable}\")\n",
    "    except:\n",
    "        print(\"No introduciste un número, te voy a dar otra oportunidad\")\n",
    "# Else se ejecuta si no se ejecuta except\n",
    "    else:\n",
    "        print(\"Iniciaste sesión amigo\")\n",
    "        break\n",
    "    finally:\n",
    "        print(\"hola mundo\")"
   ]
  }
 ],
 "metadata": {
  "kernelspec": {
   "display_name": "Python 3 (ipykernel)",
   "language": "python",
   "name": "python3"
  },
  "language_info": {
   "codemirror_mode": {
    "name": "ipython",
    "version": 3
   },
   "file_extension": ".py",
   "mimetype": "text/x-python",
   "name": "python",
   "nbconvert_exporter": "python",
   "pygments_lexer": "ipython3",
   "version": "3.11.1"
  }
 },
 "nbformat": 4,
 "nbformat_minor": 5
}
