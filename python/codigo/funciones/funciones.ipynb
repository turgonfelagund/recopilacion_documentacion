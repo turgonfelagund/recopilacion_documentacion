{
 "cells": [
  {
   "cell_type": "markdown",
   "id": "c8d2b9cb-4270-4601-9c96-6ffd6483872d",
   "metadata": {},
   "source": [
    "### Funciones. Vid 55"
   ]
  },
  {
   "cell_type": "markdown",
   "id": "a4d4acdf-71a3-466a-a592-2ba5c61bca52",
   "metadata": {},
   "source": [
    "La palabra reservada para declarar una función es \"def\""
   ]
  },
  {
   "cell_type": "code",
   "execution_count": 3,
   "id": "b205720f-6c94-4870-91e1-1c4f1d3b5f98",
   "metadata": {},
   "outputs": [
    {
     "name": "stdout",
     "output_type": "stream",
     "text": [
      "Genios mis estudiantes parte de mi familia\n"
     ]
    }
   ],
   "source": [
    "def estudiantes():\n",
    "    print(\"Genios mis estudiantes parte de mi familia\");\n",
    "estudiantes()"
   ]
  },
  {
   "cell_type": "code",
   "execution_count": 2,
   "id": "3f140f67-c3a9-4a2b-8698-c76a87e2f618",
   "metadata": {},
   "outputs": [
    {
     "name": "stdout",
     "output_type": "stream",
     "text": [
      "Genios mis estudiantes parte de mi familia\n"
     ]
    }
   ],
   "source": [
    "estudiantes()"
   ]
  },
  {
   "cell_type": "code",
   "execution_count": 10,
   "id": "55530636-2be1-4ea0-aa6c-351fc41def57",
   "metadata": {},
   "outputs": [
    {
     "name": "stdout",
     "output_type": "stream",
     "text": [
      "7 * 0 = 0\n",
      "7 * 1 = 7\n",
      "7 * 2 = 14\n",
      "7 * 3 = 21\n",
      "7 * 4 = 28\n",
      "7 * 5 = 35\n",
      "7 * 6 = 42\n",
      "7 * 7 = 49\n",
      "7 * 8 = 56\n",
      "7 * 9 = 63\n"
     ]
    }
   ],
   "source": [
    "def tabla_del_7():\n",
    "    for x in range(0,10):\n",
    "        print(f\"7 * {x} = {7 * x}\")\n",
    "tabla_del_7()"
   ]
  },
  {
   "cell_type": "markdown",
   "id": "662895fc-de3c-4dee-8ccf-5737ae7ce928",
   "metadata": {},
   "source": [
    "Python permite declarar varaibles locales como variables globales para poder usarlas en dicho ámbito"
   ]
  },
  {
   "cell_type": "code",
   "execution_count": 18,
   "id": "4e8ac94d-e310-474b-ab85-f359ba8ccc0a",
   "metadata": {},
   "outputs": [],
   "source": [
    "def variable_global():\n",
    "    global miVariable\n",
    "    miVariable = \"Marcos\";\n",
    "    # No se puede declarar como global miVariable = \"marcos\"\n",
    "variable_global();"
   ]
  },
  {
   "cell_type": "code",
   "execution_count": 19,
   "id": "6a8f4ff2-084d-4e2c-9852-37228fa4bc7e",
   "metadata": {},
   "outputs": [
    {
     "data": {
      "text/plain": [
       "'Marcos'"
      ]
     },
     "execution_count": 19,
     "metadata": {},
     "output_type": "execute_result"
    }
   ],
   "source": [
    "miVariable"
   ]
  }
 ],
 "metadata": {
  "kernelspec": {
   "display_name": "Python 3 (ipykernel)",
   "language": "python",
   "name": "python3"
  },
  "language_info": {
   "codemirror_mode": {
    "name": "ipython",
    "version": 3
   },
   "file_extension": ".py",
   "mimetype": "text/x-python",
   "name": "python",
   "nbconvert_exporter": "python",
   "pygments_lexer": "ipython3",
   "version": "3.11.1"
  }
 },
 "nbformat": 4,
 "nbformat_minor": 5
}
