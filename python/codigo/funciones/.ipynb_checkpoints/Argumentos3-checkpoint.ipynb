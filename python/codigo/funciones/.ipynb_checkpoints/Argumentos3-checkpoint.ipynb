{
 "cells": [
  {
   "cell_type": "markdown",
   "id": "30511cd2-a1dd-4934-9a01-d01b3aa75d2d",
   "metadata": {},
   "source": [
    "### Argumentos 3. Vid 59"
   ]
  },
  {
   "cell_type": "markdown",
   "id": "ea37fbcd-8b77-470f-9f5a-cdaac7f1c0d8",
   "metadata": {},
   "source": [
    "Si no sabemos cuantos argumentos vamos a pasar, hay una forma de declarar un número indeterminado de estos."
   ]
  },
  {
   "cell_type": "markdown",
   "id": "11cbb110-eb91-4882-9cca-380e270bc457",
   "metadata": {},
   "source": [
    "Recibiendo los valores como tupla"
   ]
  },
  {
   "cell_type": "code",
   "execution_count": 3,
   "id": "1619a11f-18ab-496b-a3d9-0e915443e775",
   "metadata": {},
   "outputs": [],
   "source": [
    "# Los valores son recibidos con formato tupla\n",
    "def argu(*lista):\n",
    "    for x in lista:\n",
    "        print(x)"
   ]
  },
  {
   "cell_type": "code",
   "execution_count": 4,
   "id": "a49ec487-0287-4abe-9320-c20a11faf345",
   "metadata": {},
   "outputs": [
    {
     "name": "stdout",
     "output_type": "stream",
     "text": [
      "1\n",
      "3\n",
      "6\n",
      "5\n",
      "7\n",
      "5\n",
      "Catena\n"
     ]
    }
   ],
   "source": [
    "argu(1,3,6,5,7,5,\"Catena\")"
   ]
  },
  {
   "cell_type": "markdown",
   "id": "eded5214-0926-4039-86fe-97286a1b87e9",
   "metadata": {},
   "source": [
    "Recibiendo los valores como un diccionario"
   ]
  },
  {
   "cell_type": "code",
   "execution_count": 30,
   "id": "81e12cbf-254b-4bbd-b278-033720abbe92",
   "metadata": {},
   "outputs": [],
   "source": [
    "def nombre_diccionario(**lo):\n",
    "    print(f\"diccionario {lo}\\n\") # Imprime clave y valor\n",
    "    i = 1\n",
    "    for x in lo:\n",
    "        print(f\"clave{i}: {x}\")  # Imprime clave\n",
    "        print(f\"valor{i}: {lo[x]} \\n\") #Imprime valor\n",
    "        i += 1"
   ]
  },
  {
   "cell_type": "code",
   "execution_count": 31,
   "id": "4ac6c04a-2462-4e6f-8e83-64dcc6011e51",
   "metadata": {},
   "outputs": [
    {
     "name": "stdout",
     "output_type": "stream",
     "text": [
      "diccionario {'nombre': 'Marcos', 'apellido': 'Max'}\n",
      "\n",
      "clave1: nombre\n",
      "valor1: Marcos \n",
      "\n",
      "clave2: apellido\n",
      "valor2: Max \n",
      "\n"
     ]
    }
   ],
   "source": [
    "nombre_diccionario(nombre=\"Marcos\", apellido = \"Max\")"
   ]
  },
  {
   "cell_type": "markdown",
   "id": "6492bde5-6354-4308-91ed-ba1be55f6d4f",
   "metadata": {},
   "source": [
    "Incluso se pueden mezclar ambos tipos de parámetros indeterminados"
   ]
  },
  {
   "cell_type": "code",
   "execution_count": 36,
   "id": "ec733093-a3e4-4920-a859-d206c9c396db",
   "metadata": {},
   "outputs": [],
   "source": [
    "def nombres_indeterminados(*tu, **lo):\n",
    "    b = 0\n",
    "    for x in tu:\n",
    "        b += x\n",
    "    print(b)\n",
    "    for x in lo:\n",
    "        print(x, lo[x])"
   ]
  },
  {
   "cell_type": "code",
   "execution_count": 41,
   "id": "65f4c298-3003-4517-ba91-d3987577330a",
   "metadata": {},
   "outputs": [
    {
     "name": "stdout",
     "output_type": "stream",
     "text": [
      "10\n",
      "nombre Ana\n",
      "estudiante buena\n",
      "calificaciones [7, 8, 9]\n"
     ]
    }
   ],
   "source": [
    "nombres_indeterminados(1,2,3,4, \n",
    "                       nombre = \"Ana\", \n",
    "                       estudiante = \"buena\", \n",
    "                       calificaciones = [7,8,9])"
   ]
  }
 ],
 "metadata": {
  "kernelspec": {
   "display_name": "Python 3 (ipykernel)",
   "language": "python",
   "name": "python3"
  },
  "language_info": {
   "codemirror_mode": {
    "name": "ipython",
    "version": 3
   },
   "file_extension": ".py",
   "mimetype": "text/x-python",
   "name": "python",
   "nbconvert_exporter": "python",
   "pygments_lexer": "ipython3",
   "version": "3.11.1"
  }
 },
 "nbformat": 4,
 "nbformat_minor": 5
}
