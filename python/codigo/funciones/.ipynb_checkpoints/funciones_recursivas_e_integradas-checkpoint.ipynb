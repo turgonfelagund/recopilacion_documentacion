{
 "cells": [
  {
   "cell_type": "markdown",
   "id": "da00ff3b-0c7b-4bf7-af89-e6c2e9810b0f",
   "metadata": {},
   "source": [
    "### Funciones recursivas e integradas. Vid 60"
   ]
  },
  {
   "cell_type": "markdown",
   "id": "901ee0a2-dbf1-4558-ae2e-088968092ca7",
   "metadata": {},
   "source": [
    "Las recursivas son funciones que se llaman a sí mismas. Hay que tener cuidado con estas funciones porque si no ponemos un límite, pueden provocar un bucle infinito"
   ]
  },
  {
   "cell_type": "code",
   "execution_count": 3,
   "id": "0f55e1d0-3457-4953-948d-49ba7476b14b",
   "metadata": {},
   "outputs": [],
   "source": [
    "def atras(segundos):\n",
    "    segundos -= 1\n",
    "    if segundos > 0:\n",
    "        print(segundos)\n",
    "        atras(segundos)\n",
    "    else:\n",
    "        print('Terminó la cuenta atrás')"
   ]
  },
  {
   "cell_type": "code",
   "execution_count": 4,
   "id": "52daf92b-5ee6-4d54-84dc-618276412821",
   "metadata": {},
   "outputs": [
    {
     "name": "stdout",
     "output_type": "stream",
     "text": [
      "9\n",
      "8\n",
      "7\n",
      "6\n",
      "5\n",
      "4\n",
      "3\n",
      "2\n",
      "1\n",
      "Terminó la cuenta atrás\n"
     ]
    }
   ],
   "source": [
    "atras(10)"
   ]
  },
  {
   "cell_type": "markdown",
   "id": "b40de238-7d2b-4d7f-a1a5-1e2bc0c8e9db",
   "metadata": {},
   "source": [
    "Las funciones integradas son las que transforman una cadena en un entero"
   ]
  },
  {
   "cell_type": "code",
   "execution_count": 5,
   "id": "43170ac3-4f55-431a-a774-da7e34a39075",
   "metadata": {},
   "outputs": [],
   "source": [
    "e = int(\"15\")"
   ]
  },
  {
   "cell_type": "code",
   "execution_count": 6,
   "id": "5fc535ae-99ca-4a80-85f4-d938f04b8c9b",
   "metadata": {},
   "outputs": [
    {
     "data": {
      "text/plain": [
       "15"
      ]
     },
     "execution_count": 6,
     "metadata": {},
     "output_type": "execute_result"
    }
   ],
   "source": [
    "e"
   ]
  },
  {
   "cell_type": "markdown",
   "id": "27ed205c-0720-4441-a721-9bd7190eabc8",
   "metadata": {},
   "source": [
    "También podemos transformar un entero en binario o hexadecimal"
   ]
  },
  {
   "cell_type": "code",
   "execution_count": 7,
   "id": "ccbd8537-70d1-422c-be97-56b8e69601cc",
   "metadata": {},
   "outputs": [
    {
     "data": {
      "text/plain": [
       "'0b1111'"
      ]
     },
     "execution_count": 7,
     "metadata": {},
     "output_type": "execute_result"
    }
   ],
   "source": [
    "bin(15)"
   ]
  },
  {
   "cell_type": "code",
   "execution_count": 8,
   "id": "5311bde4-6f9c-48b8-bdef-1a527c552ab3",
   "metadata": {},
   "outputs": [
    {
     "data": {
      "text/plain": [
       "'0xf'"
      ]
     },
     "execution_count": 8,
     "metadata": {},
     "output_type": "execute_result"
    }
   ],
   "source": [
    "hex(15)"
   ]
  },
  {
   "cell_type": "markdown",
   "id": "4904bf6a-11cf-4f92-9bb3-f91e17c98abf",
   "metadata": {},
   "source": [
    "Es posible crearobtener valores absolutos"
   ]
  },
  {
   "cell_type": "code",
   "execution_count": 9,
   "id": "ccb0f135-d7e3-4e78-8cd0-580dfff1cd28",
   "metadata": {},
   "outputs": [
    {
     "data": {
      "text/plain": [
       "10"
      ]
     },
     "execution_count": 9,
     "metadata": {},
     "output_type": "execute_result"
    }
   ],
   "source": [
    "abs(-10)"
   ]
  },
  {
   "cell_type": "markdown",
   "id": "c06752fa-e0c1-432e-970f-5f044809d386",
   "metadata": {},
   "source": [
    "E incluso redondear numeros"
   ]
  },
  {
   "cell_type": "code",
   "execution_count": 11,
   "id": "e2f6ed50-eebd-4ac5-819d-a6d1e2083dc3",
   "metadata": {},
   "outputs": [
    {
     "data": {
      "text/plain": [
       "5"
      ]
     },
     "execution_count": 11,
     "metadata": {},
     "output_type": "execute_result"
    }
   ],
   "source": [
    "round(5.4)"
   ]
  },
  {
   "cell_type": "markdown",
   "id": "f2637da9-bf47-45e1-a560-765164c7bf12",
   "metadata": {},
   "source": [
    "Por útlimo, si tenemos dudas, podemos pedir ayuda de la siguiente manera"
   ]
  },
  {
   "cell_type": "code",
   "execution_count": null,
   "id": "50363f79-714e-4c7b-be52-680cb6575dfe",
   "metadata": {},
   "outputs": [
    {
     "name": "stdout",
     "output_type": "stream",
     "text": [
      "\n",
      "Welcome to Python 3.11's help utility!\n",
      "\n",
      "If this is your first time using Python, you should definitely check out\n",
      "the tutorial on the internet at https://docs.python.org/3.11/tutorial/.\n",
      "\n",
      "Enter the name of any module, keyword, or topic to get help on writing\n",
      "Python programs and using Python modules.  To quit this help utility and\n",
      "return to the interpreter, just type \"quit\".\n",
      "\n",
      "To get a list of available modules, keywords, symbols, or topics, type\n",
      "\"modules\", \"keywords\", \"symbols\", or \"topics\".  Each module also comes\n",
      "with a one-line summary of what it does; to list the modules whose name\n",
      "or summary contain a given string such as \"spam\", type \"modules spam\".\n",
      "\n"
     ]
    }
   ],
   "source": [
    "# Escribiendo \"topics\" en el input, obtenemos el listado\n",
    "help()"
   ]
  }
 ],
 "metadata": {
  "kernelspec": {
   "display_name": "Python 3 (ipykernel)",
   "language": "python",
   "name": "python3"
  },
  "language_info": {
   "codemirror_mode": {
    "name": "ipython",
    "version": 3
   },
   "file_extension": ".py",
   "mimetype": "text/x-python",
   "name": "python",
   "nbconvert_exporter": "python",
   "pygments_lexer": "ipython3",
   "version": "3.11.1"
  }
 },
 "nbformat": 4,
 "nbformat_minor": 5
}
