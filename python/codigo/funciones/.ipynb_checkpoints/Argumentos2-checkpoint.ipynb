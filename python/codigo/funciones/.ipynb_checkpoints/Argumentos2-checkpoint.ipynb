{
 "cells": [
  {
   "cell_type": "markdown",
   "id": "977849a2-ffc5-46a6-9186-51c8f429833c",
   "metadata": {},
   "source": [
    "### Argumentos 2. Vid 58"
   ]
  },
  {
   "cell_type": "markdown",
   "id": "d1666623-1f2b-420f-a792-f25f310bd7a7",
   "metadata": {},
   "source": [
    "En Python, las variables globales no se modifican desde una función, pero las listas globales sí"
   ]
  },
  {
   "cell_type": "code",
   "execution_count": 21,
   "id": "660316fc-2e1d-4acd-8b39-f2791c84bfa2",
   "metadata": {},
   "outputs": [],
   "source": [
    "def modificador(valor):\n",
    "    if (type(valor) == list):\n",
    "        for x, i in enumerate(valor):\n",
    "            valor[x] *= 3\n",
    "    else:\n",
    "        valor *= 3"
   ]
  },
  {
   "cell_type": "code",
   "execution_count": 9,
   "id": "85cf8326-bb5e-477d-87c7-e26b0fb2d28a",
   "metadata": {},
   "outputs": [
    {
     "name": "stdout",
     "output_type": "stream",
     "text": [
      "3\n"
     ]
    }
   ],
   "source": [
    "# Ejemplo con una variable\n",
    "num = 3\n",
    "modificador(num)\n",
    "print(num)"
   ]
  },
  {
   "cell_type": "code",
   "execution_count": 25,
   "id": "1049076c-a5d8-40c8-9392-2a7db5fdfcba",
   "metadata": {},
   "outputs": [
    {
     "data": {
      "text/plain": [
       "[3, 6, 9]"
      ]
     },
     "execution_count": 25,
     "metadata": {},
     "output_type": "execute_result"
    }
   ],
   "source": [
    "# Ejemplo con una lista\n",
    "numList = [1,2,3]\n",
    "modificador(numList)\n",
    "numList"
   ]
  },
  {
   "cell_type": "markdown",
   "id": "c080ae23-7409-4917-b706-0fb1bdde54fb",
   "metadata": {},
   "source": [
    "Si no queremos que la lista se modifique, se hace lo siguiente"
   ]
  },
  {
   "cell_type": "code",
   "execution_count": 26,
   "id": "b77bd0e2-d3ea-42d2-b5cf-afb30f919f18",
   "metadata": {},
   "outputs": [
    {
     "data": {
      "text/plain": [
       "[3, 5, 7, 9]"
      ]
     },
     "execution_count": 26,
     "metadata": {},
     "output_type": "execute_result"
    }
   ],
   "source": [
    "numList = [3,5,7,9]\n",
    "modificador(numList[:])\n",
    "numList"
   ]
  },
  {
   "cell_type": "markdown",
   "id": "6182107b-e2dc-4b3a-86f2-f28ea00ec79d",
   "metadata": {},
   "source": [
    "Para conservar el valor de una variable, retornar dicha variable\n",
    "y asignarla a otra"
   ]
  },
  {
   "cell_type": "code",
   "execution_count": 30,
   "id": "09261bc4-ae95-4246-8e86-1d353a351053",
   "metadata": {},
   "outputs": [],
   "source": [
    "def suma(a=1,b=3):\n",
    "    return a + b"
   ]
  },
  {
   "cell_type": "code",
   "execution_count": 31,
   "id": "8f604059-bb78-4593-a8f4-ef5e016a1e39",
   "metadata": {},
   "outputs": [
    {
     "data": {
      "text/plain": [
       "4"
      ]
     },
     "execution_count": 31,
     "metadata": {},
     "output_type": "execute_result"
    }
   ],
   "source": [
    "resultado = suma()\n",
    "resultado"
   ]
  }
 ],
 "metadata": {
  "kernelspec": {
   "display_name": "Python 3 (ipykernel)",
   "language": "python",
   "name": "python3"
  },
  "language_info": {
   "codemirror_mode": {
    "name": "ipython",
    "version": 3
   },
   "file_extension": ".py",
   "mimetype": "text/x-python",
   "name": "python",
   "nbconvert_exporter": "python",
   "pygments_lexer": "ipython3",
   "version": "3.11.1"
  }
 },
 "nbformat": 4,
 "nbformat_minor": 5
}
