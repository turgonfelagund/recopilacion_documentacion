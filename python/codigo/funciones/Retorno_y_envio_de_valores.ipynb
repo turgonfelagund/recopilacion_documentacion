{
 "cells": [
  {
   "cell_type": "markdown",
   "id": "b530db48-7a2b-4ca9-be4c-16e44817fa91",
   "metadata": {},
   "source": [
    "### Retorno y envío de valores. Vid 56"
   ]
  },
  {
   "cell_type": "code",
   "execution_count": 1,
   "id": "082bf42c-e302-43c3-a3c6-dfccf0743c72",
   "metadata": {},
   "outputs": [],
   "source": [
    "def estudiantes():\n",
    "    return \"Hola a todos\";"
   ]
  },
  {
   "cell_type": "markdown",
   "id": "7b4a35fe-e6bd-4d42-903b-2612f18414e6",
   "metadata": {},
   "source": [
    "Atención sobre la diferencia de retornar directamente la cadena e imprimirla"
   ]
  },
  {
   "cell_type": "code",
   "execution_count": 4,
   "id": "1ab82b50-25e8-4060-8530-b73f014f2c67",
   "metadata": {},
   "outputs": [
    {
     "data": {
      "text/plain": [
       "'Hola a todos'"
      ]
     },
     "execution_count": 4,
     "metadata": {},
     "output_type": "execute_result"
    }
   ],
   "source": [
    "estudiantes()"
   ]
  },
  {
   "cell_type": "code",
   "execution_count": 5,
   "id": "72804bc7-4362-4164-9e6b-4ce3c24281cf",
   "metadata": {},
   "outputs": [
    {
     "name": "stdout",
     "output_type": "stream",
     "text": [
      "Hola a todos\n"
     ]
    }
   ],
   "source": [
    "print(estudiantes())"
   ]
  },
  {
   "cell_type": "code",
   "execution_count": 6,
   "id": "2c6e8e84-6b3e-47d9-b636-5393a6153564",
   "metadata": {},
   "outputs": [],
   "source": [
    "def numeros():\n",
    "    return [1,3,5,7,9]"
   ]
  },
  {
   "cell_type": "code",
   "execution_count": 9,
   "id": "cc44eae2-3d23-4bda-bed1-e302aaf2cd8f",
   "metadata": {},
   "outputs": [
    {
     "name": "stdout",
     "output_type": "stream",
     "text": [
      "[1, 3, 5, 7]\n"
     ]
    }
   ],
   "source": [
    "print(numeros()[:4])"
   ]
  },
  {
   "cell_type": "markdown",
   "id": "520ad320-8cd5-478c-8c34-9e715e2fd881",
   "metadata": {},
   "source": [
    "Se pueden retornar conjuntos de resultados"
   ]
  },
  {
   "cell_type": "code",
   "execution_count": 10,
   "id": "6d193a90-839d-4794-bd69-1f8c56936392",
   "metadata": {},
   "outputs": [],
   "source": [
    "def varios_retornos():\n",
    "    return \"Hola mundooo\", 10, [1,3,5]"
   ]
  },
  {
   "cell_type": "code",
   "execution_count": 25,
   "id": "8d723adf-e269-49d4-b309-093cce67c536",
   "metadata": {},
   "outputs": [
    {
     "name": "stdout",
     "output_type": "stream",
     "text": [
      "(10, [1, 3, 5])\n"
     ]
    }
   ],
   "source": [
    "print(varios_retornos()[1:])"
   ]
  },
  {
   "cell_type": "markdown",
   "id": "fb71f180-cd17-4880-9f8a-ffd57f6b2457",
   "metadata": {},
   "source": [
    "También se puede aplicar destructuring"
   ]
  },
  {
   "cell_type": "code",
   "execution_count": 27,
   "id": "e1a36d3a-3035-46dc-8fd9-60f04267892b",
   "metadata": {},
   "outputs": [
    {
     "name": "stdout",
     "output_type": "stream",
     "text": [
      "Hola mundooo 10\n"
     ]
    }
   ],
   "source": [
    "a,b,c = varios_retornos()\n",
    "print(a, b)"
   ]
  }
 ],
 "metadata": {
  "kernelspec": {
   "display_name": "Python 3 (ipykernel)",
   "language": "python",
   "name": "python3"
  },
  "language_info": {
   "codemirror_mode": {
    "name": "ipython",
    "version": 3
   },
   "file_extension": ".py",
   "mimetype": "text/x-python",
   "name": "python",
   "nbconvert_exporter": "python",
   "pygments_lexer": "ipython3",
   "version": "3.11.1"
  }
 },
 "nbformat": 4,
 "nbformat_minor": 5
}
