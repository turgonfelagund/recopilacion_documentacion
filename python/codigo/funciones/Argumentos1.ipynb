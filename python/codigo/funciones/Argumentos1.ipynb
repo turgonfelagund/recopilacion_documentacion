{
 "cells": [
  {
   "cell_type": "markdown",
   "id": "6ac42713-685b-4ae9-9fb1-d41246f1b9f7",
   "metadata": {},
   "source": [
    "### Argumentos parte I. Vid 57"
   ]
  },
  {
   "cell_type": "code",
   "execution_count": 1,
   "id": "cc86e0ce-22ac-4d9c-a6af-556643eac5f1",
   "metadata": {},
   "outputs": [],
   "source": [
    "def multiplicacion(a,b):\n",
    "    return a*b"
   ]
  },
  {
   "cell_type": "code",
   "execution_count": 2,
   "id": "06ead69b-1ccd-440a-97fd-130d3cb33472",
   "metadata": {},
   "outputs": [
    {
     "data": {
      "text/plain": [
       "21"
      ]
     },
     "execution_count": 2,
     "metadata": {},
     "output_type": "execute_result"
    }
   ],
   "source": [
    "multiplicacion(3,7)"
   ]
  },
  {
   "cell_type": "markdown",
   "id": "f296629a-ce65-49e6-95b2-5cd156de2c23",
   "metadata": {},
   "source": [
    "Se puede asignar un argumento a un parámetro concreto sin hacerlo en orden de la siguiente forma"
   ]
  },
  {
   "cell_type": "code",
   "execution_count": 3,
   "id": "152246f4-a081-49f3-b48e-6df68eede314",
   "metadata": {},
   "outputs": [],
   "source": [
    "def resta(a, b):\n",
    "    return a - b"
   ]
  },
  {
   "cell_type": "code",
   "execution_count": 7,
   "id": "c5946fbf-bde4-4791-9c78-7f987b258ab7",
   "metadata": {},
   "outputs": [
    {
     "data": {
      "text/plain": [
       "2"
      ]
     },
     "execution_count": 7,
     "metadata": {},
     "output_type": "execute_result"
    }
   ],
   "source": [
    "# Enviando los argumentos en orden\n",
    "resta(5,3)"
   ]
  },
  {
   "cell_type": "code",
   "execution_count": 8,
   "id": "9c6ed6c2-33c2-4084-b35f-2e39b2aa2bd3",
   "metadata": {},
   "outputs": [
    {
     "data": {
      "text/plain": [
       "-2"
      ]
     },
     "execution_count": 8,
     "metadata": {},
     "output_type": "execute_result"
    }
   ],
   "source": [
    "# Enviando los argumentos por nombre\n",
    "resta(b=5, a =3)"
   ]
  },
  {
   "cell_type": "markdown",
   "id": "abad6c56-f967-4f32-8720-5a6f1109df01",
   "metadata": {},
   "source": [
    "Se pueden asignar valores por defecto a los parámetros.\n",
    "De esta manera, se evita un error en caso de que no se pasen argumentos, y se tomarán los valores por defecto"
   ]
  },
  {
   "cell_type": "code",
   "execution_count": 11,
   "id": "40db1843-3a09-45ea-b2bf-8e2c41a67ff8",
   "metadata": {},
   "outputs": [],
   "source": [
    "def suma(a = 1, b = 2):\n",
    "    return a + b"
   ]
  },
  {
   "cell_type": "code",
   "execution_count": 12,
   "id": "7920ee62-1c9b-43f1-bcbc-69f341d36723",
   "metadata": {},
   "outputs": [
    {
     "data": {
      "text/plain": [
       "3"
      ]
     },
     "execution_count": 12,
     "metadata": {},
     "output_type": "execute_result"
    }
   ],
   "source": [
    "suma()"
   ]
  },
  {
   "cell_type": "code",
   "execution_count": 17,
   "id": "bacf88d7-fa47-4dde-a2b7-7b2a52f1011f",
   "metadata": {},
   "outputs": [],
   "source": [
    "def nulos(a=None, b = None):\n",
    "    if a ==None or b ==None:\n",
    "        print(\"No has ingresado alguno de los valores\");\n",
    "        return\n",
    "    return a + b\n"
   ]
  },
  {
   "cell_type": "code",
   "execution_count": 19,
   "id": "da5ec859-75ff-4f9d-bdf5-cff12eff09c0",
   "metadata": {},
   "outputs": [
    {
     "name": "stdout",
     "output_type": "stream",
     "text": [
      "No has ingresado alguno de los valores\n"
     ]
    }
   ],
   "source": [
    "nulos()"
   ]
  }
 ],
 "metadata": {
  "kernelspec": {
   "display_name": "Python 3 (ipykernel)",
   "language": "python",
   "name": "python3"
  },
  "language_info": {
   "codemirror_mode": {
    "name": "ipython",
    "version": 3
   },
   "file_extension": ".py",
   "mimetype": "text/x-python",
   "name": "python",
   "nbconvert_exporter": "python",
   "pygments_lexer": "ipython3",
   "version": "3.11.1"
  }
 },
 "nbformat": 4,
 "nbformat_minor": 5
}
